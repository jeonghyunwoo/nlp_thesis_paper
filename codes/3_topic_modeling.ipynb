{
 "cells": [
  {
   "cell_type": "markdown",
   "metadata": {},
   "source": [
    "### topic modeling"
   ]
  },
  {
   "cell_type": "code",
   "execution_count": 3,
   "metadata": {},
   "outputs": [],
   "source": [
    "import re\n",
    "import time\n",
    "import numpy as np\n",
    "import pandas as pd\n",
    "from pprint import pprint\n",
    " \n",
    "# Gensim\n",
    "import gensim\n",
    "import gensim.corpora as corpora\n",
    "from gensim.utils import simple_preprocess\n",
    "from gensim.models import CoherenceModel\n",
    " \n",
    "# spacy for lemmatization\n",
    "import spacy\n",
    " \n",
    "# Plotting tools\n",
    "import pyLDAvis\n",
    "import pyLDAvis.gensim # don't skip this\n",
    "import matplotlib.pyplot as plt\n",
    "%matplotlib inline"
   ]
  },
  {
   "cell_type": "markdown",
   "metadata": {},
   "source": [
    "LDA 접근방식  \n",
    "- 각 도큐먼트를 특정 비율의 토픽의 집합으로 가정  \n",
    "- 각 토픽은 각 키워드의 일정 비율로 구성  \n",
    "- 토픽은 일반적으로 표현되는 지배적인 키워드의 모음  "
   ]
  },
  {
   "cell_type": "code",
   "execution_count": 4,
   "metadata": {},
   "outputs": [],
   "source": [
    "enws = pd.read_csv('data/economy_news_전처리.csv',usecols=['id','dat','title','text','press'],parse_dates=True)"
   ]
  },
  {
   "cell_type": "code",
   "execution_count": 5,
   "metadata": {},
   "outputs": [],
   "source": [
    "enws.dat = pd.to_datetime(enws.dat)"
   ]
  },
  {
   "cell_type": "code",
   "execution_count": 6,
   "metadata": {},
   "outputs": [],
   "source": [
    "enws['ymon'] = enws.dat.dt.strftime('%Y%m')"
   ]
  },
  {
   "cell_type": "code",
   "execution_count": 7,
   "metadata": {},
   "outputs": [],
   "source": [
    "tridx = enws.loc[enws.dat<'2020-03-01'].id.max()"
   ]
  },
  {
   "cell_type": "code",
   "execution_count": 105,
   "metadata": {},
   "outputs": [
    {
     "data": {
      "text/plain": [
       "27460"
      ]
     },
     "execution_count": 105,
     "metadata": {},
     "output_type": "execute_result"
    }
   ],
   "source": [
    "tridx"
   ]
  },
  {
   "cell_type": "code",
   "execution_count": 8,
   "metadata": {},
   "outputs": [
    {
     "name": "stderr",
     "output_type": "stream",
     "text": [
      "C:\\ProgramData\\Anaconda3\\lib\\site-packages\\nltk\\decorators.py:68: DeprecationWarning: `formatargspec` is deprecated since Python 3.5. Use `signature` and the `Signature` object directly\n",
      "  regargs, varargs, varkwargs, defaults, formatvalue=lambda value: \"\"\n",
      "C:\\ProgramData\\Anaconda3\\lib\\site-packages\\nltk\\lm\\counter.py:15: DeprecationWarning: Using or importing the ABCs from 'collections' instead of from 'collections.abc' is deprecated, and in 3.8 it will stop working\n",
      "  from collections import Sequence, defaultdict\n"
     ]
    }
   ],
   "source": [
    "# 불용어 준비\n",
    "from nltk.corpus import stopwords\n",
    "stop_words = stopwords.words('english')"
   ]
  },
  {
   "cell_type": "code",
   "execution_count": 9,
   "metadata": {},
   "outputs": [
    {
     "name": "stdout",
     "output_type": "stream",
     "text": [
      "Wall time: 0 ns\n"
     ]
    }
   ],
   "source": [
    "%time\n",
    "# 이메일 주소와 줄바꿈 문자 제거 \n",
    "data = enws.text.tolist()\n",
    "data = [re.sub('\\\\S*@\\\\S*\\\\s?','',sent) for sent in data] # 이메일제거\n",
    "data = [re.sub('\\\\s+',' ',sent) for sent in data] # 줄바꿈문자 제거\n",
    "data = [re.sub(\"\\\\'\",\"\",sent) for sent in data] # 작은따옴표 제거 \n",
    "data = [re.sub(\"By\\\\s\\\\w+\\\\s\\\\w+\\\\s\\\\-\\\\s\",'',sent) for sent in data] # writer 이름 제거 "
   ]
  },
  {
   "cell_type": "code",
   "execution_count": 10,
   "metadata": {},
   "outputs": [
    {
     "name": "stdout",
     "output_type": "stream",
     "text": [
      "[['after', 'decades', 'drowning', 'in', 'deflation', 'japan', 'property', 'market', 'is', 're', 'emerging', 'with', 'average', 'prices', 'for', 'new', 'condos', 'in', 'tokyo', 'hitting', 'levels', 'not', 'seen', 'since', 'according', 'to', 'the', 'real', 'estate', 'economic', 'institute', 'said', 'this', 'week', 'if', 'the', 'trend', 'continues', 'and', 'broadens', 'it', 'could', 'mark', 'turnaround', 'in', 'the', 'long', 'dormant', 'financial', 'fortunes', 'of', 'the', 'worlds', 'third', 'largest', 'economy', 'such', 'turnaround', 'is', 'long', 'overdue', 'japan', 'real', 'estate', 'prices', 'have', 'been', 'falling', 'for', 'nearly', 'years', 'from', 'to', 'falling', 'real', 'estate', 'prices', 'swallowed', 'an', 'estimated', 'trillion', 'of', 'the', 'nation', 'wealth', 'according', 'to', 'the', 'nomura', 'research', 'institute', 'now', 'there', 'evidence', 'from', 'various', 'sectors', 'that', 'the', 'real', 'estate', 'market', 'is', 'rising', 'mt', 'fuji', 'nightfall', 'photo', 'by', 'shutterstock', 'com', 'firstly', 'tokyo', 'new', 'condo', 'sales', 'grew', 'percent', 'between', 'may', 'and', 'december', 'compared', 'to', 'the', 'same', 'period', 'in', 'the', 'average', 'price', 'of', 'new', 'condos', 'in', 'osaka', 'rose', 'by', 'percent', 'in', 'june', 'from', 'year', 'earlier', 'global', 'property', 'guide', 'said', 'late', 'last', 'year', 'secondly', 'resale', 'prices', 'are', 'also', 'rebounding', 'although', 'at', 'slower', 'pace', 'sales', 'of', 'existing', 'condos', 'in', 'and', 'surrounding', 'tokyo', 'grew', 'percent', 'between', 'may', 'and', 'september', 'last', 'year', 'compared', 'with', 'the', 'same', 'period', 'year', 'earlier', 'according', 'to', 'real', 'estate', 'information', 'network', 'for', 'east', 'japan', 'the', 'tokyo', 'stock', 'exchange', 'home', 'price', 'index', 'grew', 'percent', 'in', 'october', 'from', 'year', 'earlier', 'that', 'still', 'percent', 'below', 'the', 'precrisis', 'peak', 'and', 'percent', 'below', 'june', 'prices', 'the', 'earliest', 'data', 'available', 'thirdly', 'though', 'overall', 'land', 'prices', 'are', 'still', 'falling', 'average', 'property', 'prices', 'are', 'still', 'percent', 'below', 'their', 'peak', 'in', 'according', 'to', 'report', 'released', 'last', 'week', 'by', 'the', 'bank', 'of', 'japan', 'land', 'prices', 'near', 'major', 'metropolitan', 'areas', 'are', 'increasing', 'from', 'june', 'to', 'june', 'the', 'average', 'price', 'of', 'land', 'in', 'the', 'tokyo', 'area', 'grew', 'by', 'percent', 'according', 'to', 'the', 'land', 'institute', 'of', 'japan', 'in', 'the', 'osaka', 'area', 'the', 'average', 'land', 'price', 'grew', 'by', 'percent', 'in', 'the', 'same', 'period', 'according', 'to', 'japanese', 'government', 'survey', 'more', 'than', 'two', 'thirds', 'of', 'major', 'urban', 'areas', 'saw', 'their', 'property', 'values', 'rise', 'last', 'summer', 'in', 'july', 'moody', 'upgraded', 'its', 'rating', 'of', 'japan', 'property', 'market', 'from', 'negative', 'to', 'stable', 'fourthly', 'residential', 'construction', 'is', 'increasing', 'the', 'number', 'of', 'new', 'home', 'buildings', 'increased', 'by', 'percent', 'to', 'in', 'the', 'first', 'half', 'of', 'compared', 'to', 'same', 'period', 'last', 'year', 'according', 'to', 'the', 'ministry', 'of', 'land', 'infrastructure', 'transport', 'and', 'tourism', 'fifthly', 'if', 'japans', 'fiscal', 'and', 'monetary', 'efforts', 'including', 'the', 'bank', 'of', 'japans', 'goal', 'of', 'inflation', 'climbing', 'to', 'percent', 'to', 'stimulate', 'the', 'economy', 'succeed', 'interest', 'rates', 'will', 'rise', 'lowering', 'the', 'cost', 'of', 'fixed', 'rate', 'mortgages', 'and', 'thus', 'motivating', 'potential', 'borrowers', 'to', 'take', 'out', 'loans', 'that', 'can', 'be', 'paid', 'back', 'with', 'every', 'cheapening', 'money', 'the', 'road', 'ahead', 'could', 'be', 'bumpy', 'new', 'home', 'sales', 'may', 'be', 'up', 'now', 'because', 'of', 'planned', 'sales', 'tax', 'hike', 'in', 'april', 'but', 'even', 'with', 'tax', 'hike', 'in', 'april', 'the', 'real', 'estate', 'recovery', 'may', 'continue', 'unlike', 'the', 'last', 'sales', 'tax', 'hike', 'in', 'april', 'japan', 'economic', 'policies', 'under', 'prime', 'minister', 'shinzo', 'abe', 'have', 'raised', 'expectations', 'for', 'higher', 'prices', 'ahead', 'and', 'encouraged', 'businesses', 'to', 'invest', 'more', 'to', 'offset', 'any', 'negative', 'impact', 'from', 'the', 'tax', 'hike', 'the', 'abe', 'administration', 'is', 'preparing', 'stimulus', 'package', 'of', 'up', 'to', 'trillion', 'yen', 'about', 'billion']]\n"
     ]
    }
   ],
   "source": [
    "# 단어 토큰화와 텍스트 클린업 \n",
    "def sent_to_words(sentences):\n",
    "    for sentence in sentences:\n",
    "        yield(gensim.utils.simple_preprocess(str(sentence),deacc=True)) # deacc=True: 구두점 제거\n",
    "\n",
    "data_words = list(sent_to_words(data))\n",
    "print(data_words[:1])"
   ]
  },
  {
   "cell_type": "code",
   "execution_count": 11,
   "metadata": {},
   "outputs": [],
   "source": [
    "train = data_words[:27460]\n",
    "test = data_words[27460:]"
   ]
  },
  {
   "cell_type": "code",
   "execution_count": 14,
   "metadata": {},
   "outputs": [
    {
     "data": {
      "text/plain": [
       "192.1622931957245"
      ]
     },
     "execution_count": 14,
     "metadata": {},
     "output_type": "execute_result"
    }
   ],
   "source": [
    "s = time.time()\n",
    "# bigram과 trigram모델 만들기 \n",
    "bigram_train = gensim.models.Phrases(train,min_count=5,threshold=100) # threshold가 크면 단어구가 적게만들어짐\n",
    "trigram_train = gensim.models.Phrases(bigram_train[train], threshold=100)\n",
    "time.time()-s"
   ]
  },
  {
   "cell_type": "code",
   "execution_count": 15,
   "metadata": {},
   "outputs": [
    {
     "data": {
      "text/plain": [
       "'01:19'"
      ]
     },
     "execution_count": 15,
     "metadata": {},
     "output_type": "execute_result"
    }
   ],
   "source": [
    "s = time.time()\n",
    "bigram_mod = gensim.models.phrases.Phraser(bigram_train)\n",
    "trigram_mod = gensim.models.phrases.Phraser(trigram_train)\n",
    "e = time.time()-s\n",
    "time.strftime('%M:%S',time.gmtime(e))"
   ]
  },
  {
   "cell_type": "code",
   "execution_count": 16,
   "metadata": {},
   "outputs": [],
   "source": [
    "# 불용단어 제거하고 bigram만들고 표준형 변환 \n",
    "def remove_stopwords(texts):\n",
    "    return [[word for word in simple_preprocess(str(doc)) if word not in stop_words] for doc in texts]\n",
    "def make_bigrams(texts):\n",
    "    return [bigram_mod[doc] for doc in texts]\n",
    "def make_trigrams(texts):\n",
    "    return [trigram_mod[bigram_mod[doc]] for doc in texts]\n",
    "def lemmatization(texts, allowed_postags=['NOUN','ADJ','VERB','ADV']):\n",
    "    \"\"\"https://spac.io/api/annotation\"\"\"\n",
    "    texts_out = []\n",
    "    for sent in texts:\n",
    "        doc = nlp(\" \".join(sent))\n",
    "        texts_out.append([token.lemma_ for token in doc if token.pos_ in allowed_postags])\n",
    "    return texts_out"
   ]
  },
  {
   "cell_type": "code",
   "execution_count": 17,
   "metadata": {},
   "outputs": [],
   "source": [
    "# stopwords 제거 \n",
    "train_nostops = remove_stopwords(train)\n",
    "train_bigrams = make_bigrams(train_nostops)"
   ]
  },
  {
   "cell_type": "code",
   "execution_count": 18,
   "metadata": {},
   "outputs": [],
   "source": [
    "nlp = spacy.load('en_core_web_sm',disable=['parser','ner'])"
   ]
  },
  {
   "cell_type": "code",
   "execution_count": 19,
   "metadata": {},
   "outputs": [],
   "source": [
    "train_lemmatized = lemmatization(train_bigrams, allowed_postags=['NOUN','ADJ','VERB','ADV'])"
   ]
  },
  {
   "cell_type": "code",
   "execution_count": 20,
   "metadata": {},
   "outputs": [
    {
     "name": "stdout",
     "output_type": "stream",
     "text": [
      "[[(0, 7), (1, 2), (2, 1), (3, 2), (4, 1), (5, 5), (6, 1), (7, 1), (8, 1), (9, 1), (10, 1), (11, 1), (12, 1), (13, 1), (14, 1), (15, 1), (16, 3), (17, 3), (18, 1), (19, 2), (20, 1), (21, 2), (22, 1), (23, 1), (24, 1), (25, 1), (26, 1), (27, 3), (28, 1), (29, 1), (30, 2), (31, 1), (32, 1), (33, 1), (34, 1), (35, 1), (36, 1), (37, 1), (38, 1), (39, 3), (40, 1), (41, 1), (42, 1), (43, 1), (44, 1), (45, 1), (46, 1), (47, 1), (48, 1), (49, 1), (50, 1), (51, 5), (52, 1), (53, 1), (54, 1), (55, 2), (56, 1), (57, 1), (58, 3), (59, 1), (60, 1), (61, 1), (62, 1), (63, 1), (64, 1), (65, 1), (66, 1), (67, 1), (68, 2), (69, 1), (70, 6), (71, 1), (72, 1), (73, 1), (74, 2), (75, 1), (76, 2), (77, 1), (78, 3), (79, 4), (80, 1), (81, 1), (82, 1), (83, 1), (84, 1), (85, 1), (86, 2), (87, 4), (88, 1), (89, 1), (90, 1), (91, 1), (92, 1), (93, 1), (94, 1), (95, 2), (96, 11), (97, 4), (98, 1), (99, 1), (100, 1), (101, 1), (102, 1), (103, 13), (104, 3), (105, 1), (106, 3), (107, 1), (108, 1), (109, 1), (110, 1), (111, 1), (112, 1), (113, 4), (114, 1), (115, 5), (116, 2), (117, 1), (118, 1), (119, 2), (120, 1), (121, 1), (122, 3), (123, 1), (124, 1), (125, 1), (126, 1), (127, 1), (128, 1), (129, 1), (130, 1), (131, 4), (132, 1), (133, 1), (134, 1), (135, 1), (136, 1), (137, 1), (138, 2), (139, 1), (140, 1), (141, 1), (142, 1), (143, 1), (144, 2), (145, 1), (146, 7), (147, 1)]]\n"
     ]
    }
   ],
   "source": [
    "# LDA 주요 입력값: 사전(id2word), 코퍼스 만들기\n",
    "id2word = corpora.Dictionary(train_lemmatized)\n",
    "texts = train_lemmatized\n",
    "corpus = [id2word.doc2bow(text) for text in texts]\n",
    "print(corpus[:1])\n",
    "# gensim은 문서안의 각 단어에 대해 유니크한 id를 만든다.\n",
    "# 생성된 코퍼스는 (word_id, word_frequency)의 매핑임 \n",
    "# (0,7) : 단어id 0이 7번 발생함을 의미 "
   ]
  },
  {
   "cell_type": "markdown",
   "metadata": {},
   "source": [
    "### Mallet: Coherence 점수로 적정 Topic 갯수 구하기 "
   ]
  },
  {
   "cell_type": "code",
   "execution_count": null,
   "metadata": {},
   "outputs": [],
   "source": [
    "gc.collect()"
   ]
  },
  {
   "cell_type": "markdown",
   "metadata": {},
   "source": [
    "**최적 Mallet Topic Model**"
   ]
  },
  {
   "cell_type": "code",
   "execution_count": 21,
   "metadata": {},
   "outputs": [],
   "source": [
    "# 최적의 lda 토픽수 찾기 \n",
    "def compute_coherence_values(dictionary, corpus, texts, limit, start=2, step=3):\n",
    "    \"\"\"\n",
    "    Compute c_v coherence for various number of topics\n",
    "    \n",
    "    Parameters:\n",
    "    -----------\n",
    "    dictionary : Gensim dictionary\n",
    "    corpus : Gensim corpus\n",
    "    texts : List of input texts\n",
    "    limit : Max num of topics\n",
    "    \n",
    "    Returns:\n",
    "    --------\n",
    "    model_list : List of LDA topic models\n",
    "    coherence_values : Coherence values corresponding to the LDA model with respective number of topics\n",
    "    \"\"\"\n",
    "    coherence_values = []\n",
    "    model_list = []\n",
    "    for num_topics in range(start, limit, step):\n",
    "        model = gensim.models.wrappers.LdaMallet(mallet_path, corpus=corpus, num_topics=num_topics, id2word=id2word)\n",
    "        model_list.append(model)\n",
    "        coherencemodel = CoherenceModel(model=model, texts=texts, dictionary=dictionary, coherence='c_v')\n",
    "        coherence_values.append(coherencemodel.get_coherence())\n",
    "        print(str(num_topics),'done')\n",
    "    return model_list, coherence_values"
   ]
  },
  {
   "cell_type": "code",
   "execution_count": 23,
   "metadata": {},
   "outputs": [],
   "source": [
    "mallet_path = 'd:/pkg/mallet-2.0.8/bin/mallet'"
   ]
  },
  {
   "cell_type": "code",
   "execution_count": 24,
   "metadata": {},
   "outputs": [
    {
     "name": "stdout",
     "output_type": "stream",
     "text": [
      "2 done\n",
      "8 done\n",
      "14 done\n",
      "20 done\n",
      "26 done\n",
      "32 done\n",
      "38 done\n"
     ]
    }
   ],
   "source": [
    "model_list, coherence_values = compute_coherence_values(dictionary=id2word, corpus=corpus, texts=train_lemmatized, start=2, limit=40, step=6)"
   ]
  },
  {
   "cell_type": "code",
   "execution_count": 25,
   "metadata": {},
   "outputs": [
    {
     "data": {
      "image/png": "[encoded data removed]",
      "text/plain": [
       "<Figure size 432x288 with 1 Axes>"
      ]
     },
     "metadata": {
      "needs_background": "light"
     },
     "output_type": "display_data"
    }
   ],
   "source": [
    "# show graph\n",
    "limit = 40; start=2; step=6;\n",
    "x = range(start, limit, step)\n",
    "plt.plot(x, coherence_values)\n",
    "plt.xlabel('Num Topics')\n",
    "plt.ylabel('Coherence score')\n",
    "plt.legend(('coherence_values'), loc='best')\n",
    "plt.show()"
   ]
  },
  {
   "cell_type": "code",
   "execution_count": 26,
   "metadata": {},
   "outputs": [
    {
     "name": "stdout",
     "output_type": "stream",
     "text": [
      "Num Topics =  2  has Coherence Value of 0.4428\n",
      "Num Topics =  8  has Coherence Value of 0.4729\n",
      "Num Topics =  14  has Coherence Value of 0.498\n",
      "Num Topics =  20  has Coherence Value of 0.4851\n",
      "Num Topics =  26  has Coherence Value of 0.4939\n",
      "Num Topics =  32  has Coherence Value of 0.4811\n",
      "Num Topics =  38  has Coherence Value of 0.4844\n"
     ]
    }
   ],
   "source": [
    "for m, cv in zip(x, coherence_values):\n",
    "    print('Num Topics = ',m,' has Coherence Value of', round(cv,4))"
   ]
  },
  {
   "cell_type": "code",
   "execution_count": 27,
   "metadata": {},
   "outputs": [
    {
     "name": "stdout",
     "output_type": "stream",
     "text": [
      "[(0,\n",
      "  '0.094*\"bank\" + 0.058*\"financial\" + 0.024*\"risk\" + 0.019*\"loan\" + '\n",
      "  '0.019*\"capital\" + 0.016*\"crisis\" + 0.012*\"credit\" + 0.012*\"banking\" + '\n",
      "  '0.011*\"firm\" + 0.011*\"sector\"'),\n",
      " (1,\n",
      "  '0.035*\"rule\" + 0.028*\"country\" + 0.020*\"finance\" + 0.015*\"reform\" + '\n",
      "  '0.015*\"german\" + 0.015*\"european\" + 0.014*\"minister\" + 0.013*\"make\" + '\n",
      "  '0.012*\"euro\" + 0.010*\"member\"'),\n",
      " (2,\n",
      "  '0.017*\"year\" + 0.015*\"company\" + 0.011*\"industry\" + 0.010*\"home\" + '\n",
      "  '0.009*\"business\" + 0.009*\"accord\" + 0.009*\"sale\" + 0.008*\"price\" + '\n",
      "  '0.008*\"project\" + 0.008*\"country\"'),\n",
      " (3,\n",
      "  '0.043*\"market\" + 0.031*\"week\" + 0.030*\"report\" + 0.020*\"month\" + '\n",
      "  '0.020*\"datum\" + 0.019*\"high\" + 0.019*\"oil\" + 0.019*\"price\" + 0.015*\"rise\" + '\n",
      "  '0.015*\"stock\"'),\n",
      " (4,\n",
      "  '0.086*\"percent\" + 0.066*\"growth\" + 0.057*\"year\" + 0.041*\"economy\" + '\n",
      "  '0.025*\"expect\" + 0.022*\"month\" + 0.022*\"quarter\" + 0.020*\"economic\" + '\n",
      "  '0.019*\"rise\" + 0.018*\"forecast\"'),\n",
      " (5,\n",
      "  '0.059*\"market\" + 0.039*\"bond\" + 0.037*\"year\" + 0.031*\"investor\" + '\n",
      "  '0.024*\"fund\" + 0.023*\"currency\" + 0.021*\"dollar\" + 0.019*\"yield\" + '\n",
      "  '0.014*\"high\" + 0.013*\"percent\"'),\n",
      " (6,\n",
      "  '0.128*\"rate\" + 0.039*\"inflation\" + 0.038*\"interest\" + 0.024*\"policy\" + '\n",
      "  '0.021*\"cut\" + 0.020*\"raise\" + 0.019*\"feed\" + 0.018*\"hike\" + 0.014*\"year\" + '\n",
      "  '0.013*\"central\"'),\n",
      " (7,\n",
      "  '0.079*\"trade\" + 0.035*\"trump\" + 0.034*\"chinese\" + 0.031*\"tariff\" + '\n",
      "  '0.024*\"good\" + 0.019*\"import\" + 0.016*\"export\" + 0.016*\"world\" + '\n",
      "  '0.015*\"country\" + 0.014*\"global\"'),\n",
      " (8,\n",
      "  '0.025*\"tax\" + 0.021*\"job\" + 0.018*\"pay\" + 0.015*\"work\" + 0.014*\"worker\" + '\n",
      "  '0.014*\"year\" + 0.013*\"percent\" + 0.013*\"people\" + 0.012*\"make\" + '\n",
      "  '0.011*\"income\"'),\n",
      " (9,\n",
      "  '0.065*\"policy\" + 0.032*\"economy\" + 0.026*\"monetary\" + 0.021*\"target\" + '\n",
      "  '0.020*\"ecb\" + 0.019*\"inflation\" + 0.016*\"economic\" + 0.015*\"stimulus\" + '\n",
      "  '0.014*\"risk\" + 0.014*\"central\"'),\n",
      " (10,\n",
      "  '0.041*\"deal\" + 0.035*\"talk\" + 0.026*\"official\" + 0.023*\"agreement\" + '\n",
      "  '0.017*\"trade\" + 0.015*\"meet\" + 0.015*\"week\" + 0.014*\"negotiation\" + '\n",
      "  '0.014*\"issue\" + 0.014*\"meeting\"'),\n",
      " (11,\n",
      "  '0.015*\"company\" + 0.011*\"report\" + 0.010*\"sanction\" + 0.010*\"case\" + '\n",
      "  '0.009*\"official\" + 0.009*\"comment\" + 0.008*\"include\" + 0.007*\"foreign\" + '\n",
      "  '0.007*\"firm\" + 0.007*\"statement\"'),\n",
      " (12,\n",
      "  '0.081*\"government\" + 0.044*\"year\" + 0.039*\"debt\" + 0.026*\"budget\" + '\n",
      "  '0.022*\"fiscal\" + 0.022*\"plan\" + 0.020*\"cut\" + 0.020*\"tax\" + 0.017*\"deficit\" '\n",
      "  '+ 0.016*\"percent\"'),\n",
      " (13,\n",
      "  '0.027*\"leave\" + 0.022*\"vote\" + 0.017*\"election\" + 0.016*\"government\" + '\n",
      "  '0.015*\"political\" + 0.010*\"party\" + 0.010*\"parliament\" + 0.010*\"brexit\" + '\n",
      "  '0.009*\"british\" + 0.009*\"britain\"')]\n"
     ]
    }
   ],
   "source": [
    "optimal_model = model_list[2]\n",
    "model_topics = optimal_model.show_topics(formatted=False)\n",
    "pprint(optimal_model.print_topics(num_words=10))"
   ]
  },
  {
   "cell_type": "markdown",
   "metadata": {},
   "source": [
    "### mallet model 저장하기"
   ]
  },
  {
   "cell_type": "code",
   "execution_count": 44,
   "metadata": {},
   "outputs": [],
   "source": [
    "import pickle\n",
    "pickle.dump(optimal_model, open('model/ldamallet.pkl','wb'))"
   ]
  },
  {
   "cell_type": "markdown",
   "metadata": {},
   "source": [
    "### mallet model 불러오기"
   ]
  },
  {
   "cell_type": "code",
   "execution_count": 46,
   "metadata": {},
   "outputs": [],
   "source": [
    "model1 = pickle.load(open('model/ldamallet.pkl','rb'))"
   ]
  },
  {
   "cell_type": "markdown",
   "metadata": {},
   "source": [
    "### topic 확률 생성"
   ]
  },
  {
   "cell_type": "code",
   "execution_count": 51,
   "metadata": {},
   "outputs": [],
   "source": [
    "# stopwords 제거 \n",
    "test_nostops = remove_stopwords(test)\n",
    "test_bigrams = make_bigrams(test_nostops)"
   ]
  },
  {
   "cell_type": "code",
   "execution_count": 18,
   "metadata": {},
   "outputs": [],
   "source": [
    "nlp = spacy.load('en_core_web_sm',disable=['parser','ner'])"
   ]
  },
  {
   "cell_type": "code",
   "execution_count": 52,
   "metadata": {},
   "outputs": [],
   "source": [
    "test_lemmatized = lemmatization(test_bigrams, allowed_postags=['NOUN','ADJ','VERB','ADV'])"
   ]
  },
  {
   "cell_type": "code",
   "execution_count": 97,
   "metadata": {},
   "outputs": [],
   "source": [
    "# LDA 주요 입력값: 사전(id2word), 코퍼스 만들기\n",
    "# test_id2word = corpora.Dictionary(test_lemmatized)\n",
    "test_texts = test_lemmatized\n",
    "test_corpus = [id2word.doc2bow(text) for text in test_texts]"
   ]
  },
  {
   "cell_type": "code",
   "execution_count": 98,
   "metadata": {},
   "outputs": [],
   "source": [
    "train_topic_prob = model1[corpus]\n",
    "test_topic_prob = model1[test_corpus]"
   ]
  },
  {
   "cell_type": "code",
   "execution_count": 99,
   "metadata": {},
   "outputs": [],
   "source": [
    "tr_topic_prob = pd.DataFrame([{k:v for k,v in t} for t in train_topic_prob])\n",
    "te_topic_prob = pd.DataFrame([{k:v for k,v in t} for t in test_topic_prob])"
   ]
  },
  {
   "cell_type": "code",
   "execution_count": 100,
   "metadata": {},
   "outputs": [
    {
     "data": {
      "text/plain": [
       "(27460, 14)"
      ]
     },
     "execution_count": 100,
     "metadata": {},
     "output_type": "execute_result"
    }
   ],
   "source": [
    "tr_topic_prob.shape"
   ]
  },
  {
   "cell_type": "code",
   "execution_count": 101,
   "metadata": {},
   "outputs": [
    {
     "data": {
      "text/plain": [
       "(8083, 14)"
      ]
     },
     "execution_count": 101,
     "metadata": {},
     "output_type": "execute_result"
    }
   ],
   "source": [
    "te_topic_prob.shape"
   ]
  },
  {
   "cell_type": "code",
   "execution_count": 102,
   "metadata": {},
   "outputs": [
    {
     "data": {
      "text/html": [
       "<div>\n",
       "<style scoped>\n",
       "    .dataframe tbody tr th:only-of-type {\n",
       "        vertical-align: middle;\n",
       "    }\n",
       "\n",
       "    .dataframe tbody tr th {\n",
       "        vertical-align: top;\n",
       "    }\n",
       "\n",
       "    .dataframe thead th {\n",
       "        text-align: right;\n",
       "    }\n",
       "</style>\n",
       "<table border=\"1\" class=\"dataframe\">\n",
       "  <thead>\n",
       "    <tr style=\"text-align: right;\">\n",
       "      <th></th>\n",
       "      <th>0</th>\n",
       "      <th>1</th>\n",
       "      <th>2</th>\n",
       "      <th>3</th>\n",
       "      <th>4</th>\n",
       "      <th>5</th>\n",
       "      <th>6</th>\n",
       "      <th>7</th>\n",
       "      <th>8</th>\n",
       "      <th>9</th>\n",
       "      <th>10</th>\n",
       "      <th>11</th>\n",
       "      <th>12</th>\n",
       "      <th>13</th>\n",
       "    </tr>\n",
       "  </thead>\n",
       "  <tbody>\n",
       "    <tr>\n",
       "      <th>0</th>\n",
       "      <td>0.046889</td>\n",
       "      <td>0.017515</td>\n",
       "      <td>0.190355</td>\n",
       "      <td>0.109895</td>\n",
       "      <td>0.223134</td>\n",
       "      <td>0.056681</td>\n",
       "      <td>0.049869</td>\n",
       "      <td>0.019644</td>\n",
       "      <td>0.058809</td>\n",
       "      <td>0.103083</td>\n",
       "      <td>0.017941</td>\n",
       "      <td>0.028158</td>\n",
       "      <td>0.052849</td>\n",
       "      <td>0.025178</td>\n",
       "    </tr>\n",
       "    <tr>\n",
       "      <th>1</th>\n",
       "      <td>0.326864</td>\n",
       "      <td>0.043484</td>\n",
       "      <td>0.091103</td>\n",
       "      <td>0.027611</td>\n",
       "      <td>0.062158</td>\n",
       "      <td>0.029478</td>\n",
       "      <td>0.055622</td>\n",
       "      <td>0.037415</td>\n",
       "      <td>0.063559</td>\n",
       "      <td>0.019675</td>\n",
       "      <td>0.028545</td>\n",
       "      <td>0.102774</td>\n",
       "      <td>0.065893</td>\n",
       "      <td>0.045818</td>\n",
       "    </tr>\n",
       "    <tr>\n",
       "      <th>2</th>\n",
       "      <td>0.058407</td>\n",
       "      <td>0.071352</td>\n",
       "      <td>0.042225</td>\n",
       "      <td>0.113423</td>\n",
       "      <td>0.070273</td>\n",
       "      <td>0.046540</td>\n",
       "      <td>0.085375</td>\n",
       "      <td>0.040068</td>\n",
       "      <td>0.048698</td>\n",
       "      <td>0.241794</td>\n",
       "      <td>0.045462</td>\n",
       "      <td>0.043304</td>\n",
       "      <td>0.049777</td>\n",
       "      <td>0.043304</td>\n",
       "    </tr>\n",
       "    <tr>\n",
       "      <th>3</th>\n",
       "      <td>0.056878</td>\n",
       "      <td>0.022310</td>\n",
       "      <td>0.134656</td>\n",
       "      <td>0.076014</td>\n",
       "      <td>0.028483</td>\n",
       "      <td>0.043915</td>\n",
       "      <td>0.026014</td>\n",
       "      <td>0.035891</td>\n",
       "      <td>0.093298</td>\n",
       "      <td>0.031570</td>\n",
       "      <td>0.041446</td>\n",
       "      <td>0.352557</td>\n",
       "      <td>0.030335</td>\n",
       "      <td>0.026631</td>\n",
       "    </tr>\n",
       "    <tr>\n",
       "      <th>4</th>\n",
       "      <td>0.041333</td>\n",
       "      <td>0.061135</td>\n",
       "      <td>0.160695</td>\n",
       "      <td>0.090288</td>\n",
       "      <td>0.080387</td>\n",
       "      <td>0.089738</td>\n",
       "      <td>0.042433</td>\n",
       "      <td>0.075986</td>\n",
       "      <td>0.131542</td>\n",
       "      <td>0.057284</td>\n",
       "      <td>0.033082</td>\n",
       "      <td>0.038032</td>\n",
       "      <td>0.075436</td>\n",
       "      <td>0.022631</td>\n",
       "    </tr>\n",
       "  </tbody>\n",
       "</table>\n",
       "</div>"
      ],
      "text/plain": [
       "         0         1         2         3         4         5         6   \\\n",
       "0  0.046889  0.017515  0.190355  0.109895  0.223134  0.056681  0.049869   \n",
       "1  0.326864  0.043484  0.091103  0.027611  0.062158  0.029478  0.055622   \n",
       "2  0.058407  0.071352  0.042225  0.113423  0.070273  0.046540  0.085375   \n",
       "3  0.056878  0.022310  0.134656  0.076014  0.028483  0.043915  0.026014   \n",
       "4  0.041333  0.061135  0.160695  0.090288  0.080387  0.089738  0.042433   \n",
       "\n",
       "         7         8         9         10        11        12        13  \n",
       "0  0.019644  0.058809  0.103083  0.017941  0.028158  0.052849  0.025178  \n",
       "1  0.037415  0.063559  0.019675  0.028545  0.102774  0.065893  0.045818  \n",
       "2  0.040068  0.048698  0.241794  0.045462  0.043304  0.049777  0.043304  \n",
       "3  0.035891  0.093298  0.031570  0.041446  0.352557  0.030335  0.026631  \n",
       "4  0.075986  0.131542  0.057284  0.033082  0.038032  0.075436  0.022631  "
      ]
     },
     "execution_count": 102,
     "metadata": {},
     "output_type": "execute_result"
    }
   ],
   "source": [
    "tr_topic_prob.head()"
   ]
  },
  {
   "cell_type": "code",
   "execution_count": 118,
   "metadata": {},
   "outputs": [
    {
     "data": {
      "text/plain": [
       "27460"
      ]
     },
     "execution_count": 118,
     "metadata": {},
     "output_type": "execute_result"
    }
   ],
   "source": [
    "tridx"
   ]
  },
  {
   "cell_type": "code",
   "execution_count": 130,
   "metadata": {},
   "outputs": [],
   "source": [
    "# mallet 이용\n",
    "# 기사별 토픽확률 생성 \n",
    "# 2020.2월까지 train\n",
    "# 2020.3월부터 test\n",
    "topic_prob = pd.concat([tr_topic_prob,te_topic_prob],axis=0).reset_index(drop=True)\n",
    "topic_prob = pd.concat([enws[['id','dat']].reset_index(drop=True),topic_prob],axis=1)\n",
    "topic_prob.loc[:27460,'tr_te'] = 1\n",
    "topic_prob.loc[27460:,'tr_te'] = 2\n",
    "topic_prob.tr_te = topic_prob.tr_te.astype(int)\n",
    "topic_prob.columns = ['id','dat']+['topic'+str(i+1) for i in range(14)]+['tr_te']"
   ]
  },
  {
   "cell_type": "code",
   "execution_count": 131,
   "metadata": {},
   "outputs": [],
   "source": [
    "topic_prob.to_csv('data/topic_prob.csv',index=False)"
   ]
  },
  {
   "cell_type": "code",
   "execution_count": 132,
   "metadata": {},
   "outputs": [
    {
     "data": {
      "text/html": [
       "<div>\n",
       "<style scoped>\n",
       "    .dataframe tbody tr th:only-of-type {\n",
       "        vertical-align: middle;\n",
       "    }\n",
       "\n",
       "    .dataframe tbody tr th {\n",
       "        vertical-align: top;\n",
       "    }\n",
       "\n",
       "    .dataframe thead th {\n",
       "        text-align: right;\n",
       "    }\n",
       "</style>\n",
       "<table border=\"1\" class=\"dataframe\">\n",
       "  <thead>\n",
       "    <tr style=\"text-align: right;\">\n",
       "      <th></th>\n",
       "      <th>id</th>\n",
       "      <th>dat</th>\n",
       "      <th>topic1</th>\n",
       "      <th>topic2</th>\n",
       "      <th>topic3</th>\n",
       "      <th>topic4</th>\n",
       "      <th>topic5</th>\n",
       "      <th>topic6</th>\n",
       "      <th>topic7</th>\n",
       "      <th>topic8</th>\n",
       "      <th>topic9</th>\n",
       "      <th>topic10</th>\n",
       "      <th>topic11</th>\n",
       "      <th>topic12</th>\n",
       "      <th>topic13</th>\n",
       "      <th>topic14</th>\n",
       "      <th>tr_te</th>\n",
       "    </tr>\n",
       "  </thead>\n",
       "  <tbody>\n",
       "    <tr>\n",
       "      <th>0</th>\n",
       "      <td>1</td>\n",
       "      <td>2014-01-22</td>\n",
       "      <td>0.046889</td>\n",
       "      <td>0.017515</td>\n",
       "      <td>0.190355</td>\n",
       "      <td>0.109895</td>\n",
       "      <td>0.223134</td>\n",
       "      <td>0.056681</td>\n",
       "      <td>0.049869</td>\n",
       "      <td>0.019644</td>\n",
       "      <td>0.058809</td>\n",
       "      <td>0.103083</td>\n",
       "      <td>0.017941</td>\n",
       "      <td>0.028158</td>\n",
       "      <td>0.052849</td>\n",
       "      <td>0.025178</td>\n",
       "      <td>1</td>\n",
       "    </tr>\n",
       "    <tr>\n",
       "      <th>1</th>\n",
       "      <td>2</td>\n",
       "      <td>2014-01-22</td>\n",
       "      <td>0.326864</td>\n",
       "      <td>0.043484</td>\n",
       "      <td>0.091103</td>\n",
       "      <td>0.027611</td>\n",
       "      <td>0.062158</td>\n",
       "      <td>0.029478</td>\n",
       "      <td>0.055622</td>\n",
       "      <td>0.037415</td>\n",
       "      <td>0.063559</td>\n",
       "      <td>0.019675</td>\n",
       "      <td>0.028545</td>\n",
       "      <td>0.102774</td>\n",
       "      <td>0.065893</td>\n",
       "      <td>0.045818</td>\n",
       "      <td>1</td>\n",
       "    </tr>\n",
       "    <tr>\n",
       "      <th>2</th>\n",
       "      <td>3</td>\n",
       "      <td>2014-01-23</td>\n",
       "      <td>0.058407</td>\n",
       "      <td>0.071352</td>\n",
       "      <td>0.042225</td>\n",
       "      <td>0.113423</td>\n",
       "      <td>0.070273</td>\n",
       "      <td>0.046540</td>\n",
       "      <td>0.085375</td>\n",
       "      <td>0.040068</td>\n",
       "      <td>0.048698</td>\n",
       "      <td>0.241794</td>\n",
       "      <td>0.045462</td>\n",
       "      <td>0.043304</td>\n",
       "      <td>0.049777</td>\n",
       "      <td>0.043304</td>\n",
       "      <td>1</td>\n",
       "    </tr>\n",
       "    <tr>\n",
       "      <th>3</th>\n",
       "      <td>4</td>\n",
       "      <td>2014-01-23</td>\n",
       "      <td>0.056878</td>\n",
       "      <td>0.022310</td>\n",
       "      <td>0.134656</td>\n",
       "      <td>0.076014</td>\n",
       "      <td>0.028483</td>\n",
       "      <td>0.043915</td>\n",
       "      <td>0.026014</td>\n",
       "      <td>0.035891</td>\n",
       "      <td>0.093298</td>\n",
       "      <td>0.031570</td>\n",
       "      <td>0.041446</td>\n",
       "      <td>0.352557</td>\n",
       "      <td>0.030335</td>\n",
       "      <td>0.026631</td>\n",
       "      <td>1</td>\n",
       "    </tr>\n",
       "    <tr>\n",
       "      <th>4</th>\n",
       "      <td>5</td>\n",
       "      <td>2014-01-23</td>\n",
       "      <td>0.041333</td>\n",
       "      <td>0.061135</td>\n",
       "      <td>0.160695</td>\n",
       "      <td>0.090288</td>\n",
       "      <td>0.080387</td>\n",
       "      <td>0.089738</td>\n",
       "      <td>0.042433</td>\n",
       "      <td>0.075986</td>\n",
       "      <td>0.131542</td>\n",
       "      <td>0.057284</td>\n",
       "      <td>0.033082</td>\n",
       "      <td>0.038032</td>\n",
       "      <td>0.075436</td>\n",
       "      <td>0.022631</td>\n",
       "      <td>1</td>\n",
       "    </tr>\n",
       "  </tbody>\n",
       "</table>\n",
       "</div>"
      ],
      "text/plain": [
       "   id        dat    topic1    topic2    topic3    topic4    topic5    topic6  \\\n",
       "0   1 2014-01-22  0.046889  0.017515  0.190355  0.109895  0.223134  0.056681   \n",
       "1   2 2014-01-22  0.326864  0.043484  0.091103  0.027611  0.062158  0.029478   \n",
       "2   3 2014-01-23  0.058407  0.071352  0.042225  0.113423  0.070273  0.046540   \n",
       "3   4 2014-01-23  0.056878  0.022310  0.134656  0.076014  0.028483  0.043915   \n",
       "4   5 2014-01-23  0.041333  0.061135  0.160695  0.090288  0.080387  0.089738   \n",
       "\n",
       "     topic7    topic8    topic9   topic10   topic11   topic12   topic13  \\\n",
       "0  0.049869  0.019644  0.058809  0.103083  0.017941  0.028158  0.052849   \n",
       "1  0.055622  0.037415  0.063559  0.019675  0.028545  0.102774  0.065893   \n",
       "2  0.085375  0.040068  0.048698  0.241794  0.045462  0.043304  0.049777   \n",
       "3  0.026014  0.035891  0.093298  0.031570  0.041446  0.352557  0.030335   \n",
       "4  0.042433  0.075986  0.131542  0.057284  0.033082  0.038032  0.075436   \n",
       "\n",
       "    topic14  tr_te  \n",
       "0  0.025178      1  \n",
       "1  0.045818      1  \n",
       "2  0.043304      1  \n",
       "3  0.026631      1  \n",
       "4  0.022631      1  "
      ]
     },
     "execution_count": 132,
     "metadata": {},
     "output_type": "execute_result"
    }
   ],
   "source": [
    "topic_prob.head()"
   ]
  },
  {
   "cell_type": "code",
   "execution_count": null,
   "metadata": {},
   "outputs": [],
   "source": []
  },
  {
   "cell_type": "code",
   "execution_count": null,
   "metadata": {},
   "outputs": [],
   "source": []
  },
  {
   "cell_type": "code",
   "execution_count": null,
   "metadata": {},
   "outputs": [],
   "source": []
  },
  {
   "cell_type": "code",
   "execution_count": null,
   "metadata": {},
   "outputs": [],
   "source": []
  },
  {
   "cell_type": "markdown",
   "metadata": {},
   "source": [
    "## (이하) 기타 코드"
   ]
  },
  {
   "cell_type": "markdown",
   "metadata": {},
   "source": [
    "**1개 Mallet Topic Model 만들기**"
   ]
  },
  {
   "cell_type": "code",
   "execution_count": 225,
   "metadata": {},
   "outputs": [],
   "source": [
    "# LDA Mallet 모델 만들기 \n",
    "mallet_path = 'd:/pkg/mallet-2.0.8/bin/mallet'\n",
    "ldamallet = gensim.models.wrappers.LdaMallet(mallet_path, corpus = corpus, num_topics = 20, id2word = id2word)\n",
    "# Show Topics\n",
    "pprint(ldamallet.show_topics(formatted=False))"
   ]
  },
  {
   "cell_type": "code",
   "execution_count": 228,
   "metadata": {},
   "outputs": [
    {
     "name": "stdout",
     "output_type": "stream",
     "text": [
      "\n",
      "Coherence Score:  0.49830146488360905\n"
     ]
    }
   ],
   "source": [
    "# Compute Coherence Score\n",
    "coherence_model_ldamallet = CoherenceModel(model=ldamallet, texts=train_lemmatized, dictionary = id2word, coherence='c_v')\n",
    "coherence_ldamallet = coherence_model_ldamallet.get_coherence()\n",
    "print('\\nCoherence Score: ',coherence_ldamallet)"
   ]
  },
  {
   "cell_type": "markdown",
   "metadata": {},
   "source": [
    "### **기타 코드**"
   ]
  },
  {
   "cell_type": "code",
   "execution_count": 111,
   "metadata": {
    "collapsed": true,
    "jupyter": {
     "outputs_hidden": true
    }
   },
   "outputs": [
    {
     "data": {
      "text/plain": [
       "[[('accord', 7),\n",
       "  ('ahead', 2),\n",
       "  ('also', 1),\n",
       "  ('area', 2),\n",
       "  ('available', 1),\n",
       "  ('average', 5),\n",
       "  ('back', 1),\n",
       "  ('bank', 1),\n",
       "  ('borrower', 1),\n",
       "  ('broaden', 1),\n",
       "  ('building', 1),\n",
       "  ('bumpy', 1),\n",
       "  ('business', 1),\n",
       "  ('cheapen', 1),\n",
       "  ('climb', 1),\n",
       "  ('com', 1),\n",
       "  ('compare', 3),\n",
       "  ('condo', 3),\n",
       "  ('construction', 1),\n",
       "  ('continue', 2),\n",
       "  ('cost', 1),\n",
       "  ('could', 2),\n",
       "  ('datum', 1),\n",
       "  ('decade', 1),\n",
       "  ('deflation', 1),\n",
       "  ('dormant', 1),\n",
       "  ('drown', 1),\n",
       "  ('earlier', 3),\n",
       "  ('early', 1),\n",
       "  ('economic', 1),\n",
       "  ('economy', 2),\n",
       "  ('effort', 1),\n",
       "  ('emerge', 1),\n",
       "  ('encourage', 1),\n",
       "  ('estimate', 1),\n",
       "  ('even', 1),\n",
       "  ('evidence', 1),\n",
       "  ('exist', 1),\n",
       "  ('expectation', 1),\n",
       "  ('fall', 3),\n",
       "  ('fifthly', 1),\n",
       "  ('financial', 1),\n",
       "  ('first', 1),\n",
       "  ('firstly', 1),\n",
       "  ('fiscal', 1),\n",
       "  ('fix', 1),\n",
       "  ('fortune', 1),\n",
       "  ('fourthly', 1),\n",
       "  ('global', 1),\n",
       "  ('goal', 1),\n",
       "  ('government', 1),\n",
       "  ('grow', 5),\n",
       "  ('guide', 1),\n",
       "  ('high', 1),\n",
       "  ('hit', 1),\n",
       "  ('home', 2),\n",
       "  ('impact', 1),\n",
       "  ('include', 1),\n",
       "  ('increase', 3),\n",
       "  ('index', 1),\n",
       "  ('inflation', 1),\n",
       "  ('information', 1),\n",
       "  ('infrastructure', 1),\n",
       "  ('institute', 1),\n",
       "  ('interest', 1),\n",
       "  ('invest', 1),\n",
       "  ('japan', 1),\n",
       "  ('japanese', 1),\n",
       "  ('land', 2),\n",
       "  ('large', 1),\n",
       "  ('last', 6),\n",
       "  ('late', 1),\n",
       "  ('level', 1),\n",
       "  ('loan', 1),\n",
       "  ('long', 2),\n",
       "  ('lower', 1),\n",
       "  ('major', 2),\n",
       "  ('mark', 1),\n",
       "  ('market', 3),\n",
       "  ('may', 4),\n",
       "  ('monetary', 1),\n",
       "  ('money', 1),\n",
       "  ('mortgage', 1),\n",
       "  ('motivate', 1),\n",
       "  ('nation', 1),\n",
       "  ('nearly', 1),\n",
       "  ('negative', 2),\n",
       "  ('new', 4),\n",
       "  ('number', 1),\n",
       "  ('offset', 1),\n",
       "  ('overall', 1),\n",
       "  ('overdue', 1),\n",
       "  ('pace', 1),\n",
       "  ('package', 1),\n",
       "  ('pay', 1),\n",
       "  ('peak', 2),\n",
       "  ('percent', 11),\n",
       "  ('period', 4),\n",
       "  ('plan', 1),\n",
       "  ('policy', 1),\n",
       "  ('potential', 1),\n",
       "  ('precrisis', 1),\n",
       "  ('prepare', 1),\n",
       "  ('price', 13),\n",
       "  ('property', 3),\n",
       "  ('raise', 1),\n",
       "  ('rate', 3),\n",
       "  ('rebound', 1),\n",
       "  ('recovery', 1),\n",
       "  ('release', 1),\n",
       "  ('report', 1),\n",
       "  ('resale', 1),\n",
       "  ('residential', 1),\n",
       "  ('rise', 4),\n",
       "  ('road', 1),\n",
       "  ('sale', 5),\n",
       "  ('say', 2),\n",
       "  ('secondly', 1),\n",
       "  ('sector', 1),\n",
       "  ('see', 2),\n",
       "  ('slow', 1),\n",
       "  ('stable', 1),\n",
       "  ('still', 3),\n",
       "  ('stimulate', 1),\n",
       "  ('stimulus', 1),\n",
       "  ('succeed', 1),\n",
       "  ('summer', 1),\n",
       "  ('surround', 1),\n",
       "  ('survey', 1),\n",
       "  ('swallow', 1),\n",
       "  ('take', 1),\n",
       "  ('tax', 4),\n",
       "  ('third', 1),\n",
       "  ('thirdly', 1),\n",
       "  ('thus', 1),\n",
       "  ('tourism', 1),\n",
       "  ('transport', 1),\n",
       "  ('trend', 1),\n",
       "  ('turnaround', 2),\n",
       "  ('upgrade', 1),\n",
       "  ('urban', 1),\n",
       "  ('value', 1),\n",
       "  ('various', 1),\n",
       "  ('wealth', 1),\n",
       "  ('week', 2),\n",
       "  ('world', 1),\n",
       "  ('year', 7),\n",
       "  ('yen', 1)]]"
      ]
     },
     "execution_count": 111,
     "metadata": {},
     "output_type": "execute_result"
    }
   ],
   "source": [
    "[[(id2word[id], freq) for id, freq in cp] for cp in corpus[:1]]"
   ]
  },
  {
   "cell_type": "code",
   "execution_count": 179,
   "metadata": {},
   "outputs": [],
   "source": [
    "# 토픽 모델 만들기 \n",
    "lda_model = gensim.models.ldamodel.LdaModel(corpus = corpus,\n",
    "                                           id2word=id2word,\n",
    "                                           num_topics=20,\n",
    "                                           random_state=100,\n",
    "                                           update_every=1,\n",
    "                                           chunksize=100,\n",
    "                                           passes=10,\n",
    "                                           alpha='auto',\n",
    "                                           per_word_topics=True)"
   ]
  },
  {
   "cell_type": "code",
   "execution_count": 180,
   "metadata": {
    "collapsed": true,
    "jupyter": {
     "outputs_hidden": true
    }
   },
   "outputs": [
    {
     "name": "stdout",
     "output_type": "stream",
     "text": [
      "[(0,\n",
      "  '0.044*\"say\" + 0.014*\"year\" + 0.014*\"go\" + 0.013*\"make\" + 0.012*\"people\" + '\n",
      "  '0.012*\"would\" + 0.011*\"time\" + 0.011*\"take\" + 0.010*\"could\" + 0.010*\"get\"'),\n",
      " (1,\n",
      "  '0.076*\"home\" + 0.057*\"price\" + 0.055*\"housing\" + 0.043*\"property\" + '\n",
      "  '0.039*\"sale\" + 0.035*\"city\" + 0.034*\"mortgage\" + 0.030*\"household\" + '\n",
      "  '0.025*\"cool\" + 0.021*\"buyer\"'),\n",
      " (2,\n",
      "  '0.234*\"trade\" + 0.083*\"tariff\" + 0.073*\"chinese\" + 0.045*\"good\" + '\n",
      "  '0.030*\"import\" + 0.028*\"export\" + 0.028*\"war\" + 0.024*\"talk\" + '\n",
      "  '0.023*\"global\" + 0.021*\"deal\"'),\n",
      " (3,\n",
      "  '0.044*\"digital\" + 0.040*\"insurance\" + 0.037*\"technology\" + 0.033*\"consumer\" '\n",
      "  '+ 0.032*\"customer\" + 0.028*\"tech\" + 0.026*\"service\" + 0.024*\"network\" + '\n",
      "  '0.022*\"payment\" + 0.022*\"use\"'),\n",
      " (4,\n",
      "  '0.145*\"food\" + 0.082*\"italian\" + 0.055*\"season\" + 0.053*\"item\" + '\n",
      "  '0.044*\"hotel\" + 0.041*\"black\" + 0.038*\"restaurant\" + 0.035*\"climate_change\" '\n",
      "  '+ 0.029*\"collection\" + 0.028*\"chip\"'),\n",
      " (5,\n",
      "  '0.079*\"company\" + 0.031*\"business\" + 0.025*\"firm\" + 0.022*\"industry\" + '\n",
      "  '0.021*\"say\" + 0.015*\"accord\" + 0.012*\"car\" + 0.012*\"purchase\" + '\n",
      "  '0.012*\"sale\" + 0.012*\"cost\"'),\n",
      " (6,\n",
      "  '0.039*\"bank\" + 0.039*\"say\" + 0.036*\"financial\" + 0.019*\"system\" + '\n",
      "  '0.019*\"case\" + 0.018*\"rule\" + 0.012*\"risk\" + 0.012*\"report\" + '\n",
      "  '0.010*\"banking\" + 0.010*\"review\"'),\n",
      " (7,\n",
      "  '0.052*\"market\" + 0.024*\"global\" + 0.022*\"year\" + 0.020*\"high\" + 0.015*\"low\" '\n",
      "  '+ 0.012*\"risk\" + 0.012*\"financial\" + 0.012*\"hit\" + 0.011*\"currency\" + '\n",
      "  '0.011*\"dollar\"'),\n",
      " (8,\n",
      "  '0.058*\"report\" + 0.041*\"week\" + 0.033*\"datum\" + 0.028*\"stock\" + '\n",
      "  '0.022*\"point\" + 0.021*\"day\" + 0.020*\"expect\" + 0.018*\"due\" + 0.018*\"trade\" '\n",
      "  '+ 0.015*\"oil\"'),\n",
      " (9,\n",
      "  '0.061*\"growth\" + 0.058*\"year\" + 0.046*\"economy\" + 0.031*\"say\" + '\n",
      "  '0.025*\"economic\" + 0.025*\"expect\" + 0.018*\"quarter\" + 0.017*\"economist\" + '\n",
      "  '0.016*\"month\" + 0.015*\"forecast\"'),\n",
      " (10,\n",
      "  '0.076*\"job\" + 0.067*\"labor\" + 0.061*\"worker\" + 0.034*\"wage\" + 0.031*\"pay\" + '\n",
      "  '0.028*\"work\" + 0.022*\"unemployment\" + 0.021*\"income\" + 0.020*\"low\" + '\n",
      "  '0.017*\"high\"'),\n",
      " (11,\n",
      "  '0.094*\"tax\" + 0.076*\"government\" + 0.066*\"fiscal\" + 0.062*\"budget\" + '\n",
      "  '0.034*\"spending\" + 0.030*\"deficit\" + 0.027*\"year\" + 0.022*\"debt\" + '\n",
      "  '0.021*\"cut\" + 0.020*\"plan\"'),\n",
      " (12,\n",
      "  '0.079*\"school\" + 0.065*\"wealth\" + 0.054*\"woman\" + 0.054*\"family\" + '\n",
      "  '0.048*\"death\" + 0.038*\"die\" + 0.035*\"student\" + 0.030*\"child\" + '\n",
      "  '0.029*\"mechanism\" + 0.024*\"live\"'),\n",
      " (13,\n",
      "  '0.063*\"debt\" + 0.057*\"bond\" + 0.048*\"fund\" + 0.044*\"bank\" + 0.033*\"loan\" + '\n",
      "  '0.025*\"year\" + 0.020*\"reserve\" + 0.020*\"cash\" + 0.020*\"money\" + '\n",
      "  '0.018*\"investor\"'),\n",
      " (14,\n",
      "  '0.148*\"oil\" + 0.134*\"sanction\" + 0.113*\"protest\" + 0.080*\"military\" + '\n",
      "  '0.047*\"russian\" + 0.035*\"western\" + 0.026*\"violence\" + 0.024*\"rethink\" + '\n",
      "  '0.018*\"gas\" + 0.016*\"impose\"'),\n",
      " (15,\n",
      "  '0.074*\"travel\" + 0.060*\"kill\" + 0.047*\"flight\" + 0.044*\"repo\" + '\n",
      "  '0.044*\"airline\" + 0.043*\"death\" + 0.038*\"passenger\" + 0.033*\"attack\" + '\n",
      "  '0.025*\"indian\" + 0.023*\"quote\"'),\n",
      " (16,\n",
      "  '0.039*\"price\" + 0.038*\"farm\" + 0.037*\"farmer\" + 0.035*\"subsidy\" + '\n",
      "  '0.034*\"energy\" + 0.028*\"production\" + 0.027*\"plant\" + 0.026*\"capacity\" + '\n",
      "  '0.025*\"climate\" + 0.024*\"agricultural\"'),\n",
      " (17,\n",
      "  '0.045*\"say\" + 0.043*\"country\" + 0.039*\"investment\" + 0.035*\"government\" + '\n",
      "  '0.027*\"foreign\" + 0.021*\"economic\" + 0.020*\"sector\" + 0.017*\"chinese\" + '\n",
      "  '0.017*\"economy\" + 0.016*\"state\"'),\n",
      " (18,\n",
      "  '0.064*\"say\" + 0.027*\"would\" + 0.019*\"deal\" + 0.014*\"government\" + '\n",
      "  '0.014*\"official\" + 0.010*\"week\" + 0.010*\"country\" + 0.009*\"could\" + '\n",
      "  '0.009*\"tell\" + 0.008*\"also\"'),\n",
      " (19,\n",
      "  '0.109*\"rate\" + 0.057*\"policy\" + 0.044*\"inflation\" + 0.034*\"bank\" + '\n",
      "  '0.034*\"cut\" + 0.032*\"interest\" + 0.025*\"central\" + 0.025*\"monetary\" + '\n",
      "  '0.020*\"say\" + 0.016*\"target\"')]\n"
     ]
    }
   ],
   "source": [
    "# lda 모델의 토픽보기 \n",
    "# 토픽별 10개 키워드 \n",
    "pprint(lda_model.print_topics())\n",
    "doc_lda = lda_model[corpus]"
   ]
  },
  {
   "cell_type": "code",
   "execution_count": 181,
   "metadata": {},
   "outputs": [
    {
     "name": "stdout",
     "output_type": "stream",
     "text": [
      "\n",
      "Perplexity:  -10.007470477905306\n"
     ]
    }
   ],
   "source": [
    "# 모델 난이도와 일관성 점수 계산 \n",
    "print('\\nPerplexity: ',lda_model.log_perplexity(corpus))"
   ]
  },
  {
   "cell_type": "code",
   "execution_count": 182,
   "metadata": {},
   "outputs": [
    {
     "name": "stdout",
     "output_type": "stream",
     "text": [
      "\n",
      "Coherence Score:  0.45391983449464923\n"
     ]
    }
   ],
   "source": [
    "coherence_model_lda = CoherenceModel(model = lda_model, texts = train_lemmatized, dictionary=id2word, coherence='c_v')\n",
    "coherence_lda = coherence_model_lda.get_coherence()\n",
    "print('\\nCoherence Score: ',coherence_lda)"
   ]
  },
  {
   "cell_type": "code",
   "execution_count": 190,
   "metadata": {
    "collapsed": true,
    "jupyter": {
     "outputs_hidden": true
    }
   },
   "outputs": [
    {
     "data": {
      "text/plain": [
       "[[(0, 0.039064944),\n",
       "  (1, 0.23853052),\n",
       "  (7, 0.22616611),\n",
       "  (8, 0.039323464),\n",
       "  (9, 0.25449947),\n",
       "  (11, 0.03941763),\n",
       "  (17, 0.05663374),\n",
       "  (18, 0.032787155),\n",
       "  (19, 0.060852256)],\n",
       " [(0, 0.1376976),\n",
       "  (1, 0.025801694),\n",
       "  (5, 0.07948344),\n",
       "  (6, 0.10837357),\n",
       "  (9, 0.046786692),\n",
       "  (10, 0.029014887),\n",
       "  (13, 0.30924252),\n",
       "  (16, 0.038003113),\n",
       "  (17, 0.06468784),\n",
       "  (18, 0.11934305),\n",
       "  (19, 0.028400019)],\n",
       " [(0, 0.041109044),\n",
       "  (5, 0.011147422),\n",
       "  (7, 0.1579221),\n",
       "  (9, 0.110561796),\n",
       "  (17, 0.05226727),\n",
       "  (18, 0.22173339),\n",
       "  (19, 0.37446195)],\n",
       " [(0, 0.18398969),\n",
       "  (1, 0.036000546),\n",
       "  (2, 0.010855934),\n",
       "  (3, 0.2113515),\n",
       "  (5, 0.11228948),\n",
       "  (6, 0.21998909),\n",
       "  (7, 0.10612155),\n",
       "  (8, 0.04930143),\n",
       "  (18, 0.041730665)],\n",
       " [(0, 0.12479729),\n",
       "  (2, 0.010040674),\n",
       "  (5, 0.0828783),\n",
       "  (7, 0.098115675),\n",
       "  (8, 0.057910703),\n",
       "  (9, 0.12229714),\n",
       "  (10, 0.04566448),\n",
       "  (15, 0.01264076),\n",
       "  (17, 0.3470738),\n",
       "  (18, 0.067172185),\n",
       "  (19, 0.016773101)],\n",
       " [(0, 0.17908257),\n",
       "  (2, 0.03192796),\n",
       "  (5, 0.06300078),\n",
       "  (6, 0.02053964),\n",
       "  (7, 0.23002866),\n",
       "  (9, 0.13214967),\n",
       "  (11, 0.01730395),\n",
       "  (13, 0.0101804985),\n",
       "  (16, 0.24207287),\n",
       "  (18, 0.058923583)],\n",
       " [(0, 0.046228673),\n",
       "  (7, 0.2756465),\n",
       "  (9, 0.06846718),\n",
       "  (13, 0.032119825),\n",
       "  (17, 0.046697732),\n",
       "  (18, 0.2786478),\n",
       "  (19, 0.21881509)],\n",
       " [(0, 0.358577),\n",
       "  (1, 0.14270505),\n",
       "  (3, 0.015145243),\n",
       "  (5, 0.041026283),\n",
       "  (6, 0.12878025),\n",
       "  (7, 0.07451265),\n",
       "  (8, 0.018654203),\n",
       "  (9, 0.028905835),\n",
       "  (13, 0.08118052),\n",
       "  (18, 0.08387107),\n",
       "  (19, 0.014792177)],\n",
       " [(0, 0.27135655),\n",
       "  (7, 0.12908746),\n",
       "  (9, 0.1459824),\n",
       "  (10, 0.036939573),\n",
       "  (18, 0.09092717),\n",
       "  (19, 0.30386984)],\n",
       " [(0, 0.053613514),\n",
       "  (5, 0.04166242),\n",
       "  (6, 0.020987045),\n",
       "  (7, 0.29232368),\n",
       "  (8, 0.07646761),\n",
       "  (9, 0.14822984),\n",
       "  (12, 0.019967321),\n",
       "  (15, 0.010338621),\n",
       "  (17, 0.2685094),\n",
       "  (18, 0.04161922),\n",
       "  (19, 0.016315715)]]"
      ]
     },
     "execution_count": 190,
     "metadata": {},
     "output_type": "execute_result"
    }
   ],
   "source": [
    "tpr = [lda_model.get_document_topics(c) for c in corpus[:10]]\n",
    "tpr"
   ]
  },
  {
   "cell_type": "code",
   "execution_count": 205,
   "metadata": {},
   "outputs": [],
   "source": [
    "tpd = pd.concat([pd.DataFrame(t).assign(idx=i) for i,t in enumerate(tpr)])\n",
    "tpd = tpd.pivot(index='idx',columns=0,values=1).fillna(0)"
   ]
  },
  {
   "cell_type": "code",
   "execution_count": 206,
   "metadata": {},
   "outputs": [
    {
     "data": {
      "text/html": [
       "<div>\n",
       "<style scoped>\n",
       "    .dataframe tbody tr th:only-of-type {\n",
       "        vertical-align: middle;\n",
       "    }\n",
       "\n",
       "    .dataframe tbody tr th {\n",
       "        vertical-align: top;\n",
       "    }\n",
       "\n",
       "    .dataframe thead th {\n",
       "        text-align: right;\n",
       "    }\n",
       "</style>\n",
       "<table border=\"1\" class=\"dataframe\">\n",
       "  <thead>\n",
       "    <tr style=\"text-align: right;\">\n",
       "      <th></th>\n",
       "      <th>0</th>\n",
       "      <th>1</th>\n",
       "      <th>2</th>\n",
       "      <th>3</th>\n",
       "      <th>5</th>\n",
       "      <th>6</th>\n",
       "      <th>7</th>\n",
       "      <th>8</th>\n",
       "      <th>9</th>\n",
       "      <th>10</th>\n",
       "      <th>11</th>\n",
       "      <th>12</th>\n",
       "      <th>13</th>\n",
       "      <th>15</th>\n",
       "      <th>16</th>\n",
       "      <th>17</th>\n",
       "      <th>18</th>\n",
       "      <th>19</th>\n",
       "    </tr>\n",
       "    <tr>\n",
       "      <th>idx</th>\n",
       "      <th></th>\n",
       "      <th></th>\n",
       "      <th></th>\n",
       "      <th></th>\n",
       "      <th></th>\n",
       "      <th></th>\n",
       "      <th></th>\n",
       "      <th></th>\n",
       "      <th></th>\n",
       "      <th></th>\n",
       "      <th></th>\n",
       "      <th></th>\n",
       "      <th></th>\n",
       "      <th></th>\n",
       "      <th></th>\n",
       "      <th></th>\n",
       "      <th></th>\n",
       "      <th></th>\n",
       "    </tr>\n",
       "  </thead>\n",
       "  <tbody>\n",
       "    <tr>\n",
       "      <th>0</th>\n",
       "      <td>0.039065</td>\n",
       "      <td>0.238531</td>\n",
       "      <td>0.000000</td>\n",
       "      <td>0.000000</td>\n",
       "      <td>0.000000</td>\n",
       "      <td>0.000000</td>\n",
       "      <td>0.226166</td>\n",
       "      <td>0.039323</td>\n",
       "      <td>0.254499</td>\n",
       "      <td>0.000000</td>\n",
       "      <td>0.039418</td>\n",
       "      <td>0.0</td>\n",
       "      <td>0.000000</td>\n",
       "      <td>0.000000</td>\n",
       "      <td>0.000000</td>\n",
       "      <td>0.056634</td>\n",
       "      <td>0.032787</td>\n",
       "      <td>0.060852</td>\n",
       "    </tr>\n",
       "    <tr>\n",
       "      <th>1</th>\n",
       "      <td>0.137698</td>\n",
       "      <td>0.025802</td>\n",
       "      <td>0.000000</td>\n",
       "      <td>0.000000</td>\n",
       "      <td>0.079483</td>\n",
       "      <td>0.108374</td>\n",
       "      <td>0.000000</td>\n",
       "      <td>0.000000</td>\n",
       "      <td>0.046787</td>\n",
       "      <td>0.029015</td>\n",
       "      <td>0.000000</td>\n",
       "      <td>0.0</td>\n",
       "      <td>0.309243</td>\n",
       "      <td>0.000000</td>\n",
       "      <td>0.038003</td>\n",
       "      <td>0.064688</td>\n",
       "      <td>0.119343</td>\n",
       "      <td>0.028400</td>\n",
       "    </tr>\n",
       "    <tr>\n",
       "      <th>2</th>\n",
       "      <td>0.041109</td>\n",
       "      <td>0.000000</td>\n",
       "      <td>0.000000</td>\n",
       "      <td>0.000000</td>\n",
       "      <td>0.011147</td>\n",
       "      <td>0.000000</td>\n",
       "      <td>0.157922</td>\n",
       "      <td>0.000000</td>\n",
       "      <td>0.110562</td>\n",
       "      <td>0.000000</td>\n",
       "      <td>0.000000</td>\n",
       "      <td>0.0</td>\n",
       "      <td>0.000000</td>\n",
       "      <td>0.000000</td>\n",
       "      <td>0.000000</td>\n",
       "      <td>0.052267</td>\n",
       "      <td>0.221733</td>\n",
       "      <td>0.374462</td>\n",
       "    </tr>\n",
       "    <tr>\n",
       "      <th>3</th>\n",
       "      <td>0.183990</td>\n",
       "      <td>0.036001</td>\n",
       "      <td>0.010856</td>\n",
       "      <td>0.211351</td>\n",
       "      <td>0.112289</td>\n",
       "      <td>0.219989</td>\n",
       "      <td>0.106122</td>\n",
       "      <td>0.049301</td>\n",
       "      <td>0.000000</td>\n",
       "      <td>0.000000</td>\n",
       "      <td>0.000000</td>\n",
       "      <td>0.0</td>\n",
       "      <td>0.000000</td>\n",
       "      <td>0.000000</td>\n",
       "      <td>0.000000</td>\n",
       "      <td>0.000000</td>\n",
       "      <td>0.041731</td>\n",
       "      <td>0.000000</td>\n",
       "    </tr>\n",
       "    <tr>\n",
       "      <th>4</th>\n",
       "      <td>0.124797</td>\n",
       "      <td>0.000000</td>\n",
       "      <td>0.010041</td>\n",
       "      <td>0.000000</td>\n",
       "      <td>0.082878</td>\n",
       "      <td>0.000000</td>\n",
       "      <td>0.098116</td>\n",
       "      <td>0.057911</td>\n",
       "      <td>0.122297</td>\n",
       "      <td>0.045664</td>\n",
       "      <td>0.000000</td>\n",
       "      <td>0.0</td>\n",
       "      <td>0.000000</td>\n",
       "      <td>0.012641</td>\n",
       "      <td>0.000000</td>\n",
       "      <td>0.347074</td>\n",
       "      <td>0.067172</td>\n",
       "      <td>0.016773</td>\n",
       "    </tr>\n",
       "  </tbody>\n",
       "</table>\n",
       "</div>"
      ],
      "text/plain": [
       "0          0         1         2         3         5         6         7   \\\n",
       "idx                                                                         \n",
       "0    0.039065  0.238531  0.000000  0.000000  0.000000  0.000000  0.226166   \n",
       "1    0.137698  0.025802  0.000000  0.000000  0.079483  0.108374  0.000000   \n",
       "2    0.041109  0.000000  0.000000  0.000000  0.011147  0.000000  0.157922   \n",
       "3    0.183990  0.036001  0.010856  0.211351  0.112289  0.219989  0.106122   \n",
       "4    0.124797  0.000000  0.010041  0.000000  0.082878  0.000000  0.098116   \n",
       "\n",
       "0          8         9         10        11   12        13        15  \\\n",
       "idx                                                                    \n",
       "0    0.039323  0.254499  0.000000  0.039418  0.0  0.000000  0.000000   \n",
       "1    0.000000  0.046787  0.029015  0.000000  0.0  0.309243  0.000000   \n",
       "2    0.000000  0.110562  0.000000  0.000000  0.0  0.000000  0.000000   \n",
       "3    0.049301  0.000000  0.000000  0.000000  0.0  0.000000  0.000000   \n",
       "4    0.057911  0.122297  0.045664  0.000000  0.0  0.000000  0.012641   \n",
       "\n",
       "0          16        17        18        19  \n",
       "idx                                          \n",
       "0    0.000000  0.056634  0.032787  0.060852  \n",
       "1    0.038003  0.064688  0.119343  0.028400  \n",
       "2    0.000000  0.052267  0.221733  0.374462  \n",
       "3    0.000000  0.000000  0.041731  0.000000  \n",
       "4    0.000000  0.347074  0.067172  0.016773  "
      ]
     },
     "execution_count": 206,
     "metadata": {},
     "output_type": "execute_result"
    }
   ],
   "source": [
    "tpd.head()"
   ]
  },
  {
   "cell_type": "code",
   "execution_count": 211,
   "metadata": {},
   "outputs": [],
   "source": [
    "tpd['sum'] = tpd.sum(axis=1)"
   ]
  },
  {
   "cell_type": "code",
   "execution_count": 212,
   "metadata": {},
   "outputs": [
    {
     "data": {
      "text/html": [
       "<div>\n",
       "<style scoped>\n",
       "    .dataframe tbody tr th:only-of-type {\n",
       "        vertical-align: middle;\n",
       "    }\n",
       "\n",
       "    .dataframe tbody tr th {\n",
       "        vertical-align: top;\n",
       "    }\n",
       "\n",
       "    .dataframe thead th {\n",
       "        text-align: right;\n",
       "    }\n",
       "</style>\n",
       "<table border=\"1\" class=\"dataframe\">\n",
       "  <thead>\n",
       "    <tr style=\"text-align: right;\">\n",
       "      <th></th>\n",
       "      <th>0</th>\n",
       "      <th>1</th>\n",
       "      <th>2</th>\n",
       "      <th>3</th>\n",
       "      <th>5</th>\n",
       "      <th>6</th>\n",
       "      <th>7</th>\n",
       "      <th>8</th>\n",
       "      <th>9</th>\n",
       "      <th>10</th>\n",
       "      <th>11</th>\n",
       "      <th>12</th>\n",
       "      <th>13</th>\n",
       "      <th>15</th>\n",
       "      <th>16</th>\n",
       "      <th>17</th>\n",
       "      <th>18</th>\n",
       "      <th>19</th>\n",
       "      <th>sum</th>\n",
       "    </tr>\n",
       "    <tr>\n",
       "      <th>idx</th>\n",
       "      <th></th>\n",
       "      <th></th>\n",
       "      <th></th>\n",
       "      <th></th>\n",
       "      <th></th>\n",
       "      <th></th>\n",
       "      <th></th>\n",
       "      <th></th>\n",
       "      <th></th>\n",
       "      <th></th>\n",
       "      <th></th>\n",
       "      <th></th>\n",
       "      <th></th>\n",
       "      <th></th>\n",
       "      <th></th>\n",
       "      <th></th>\n",
       "      <th></th>\n",
       "      <th></th>\n",
       "      <th></th>\n",
       "    </tr>\n",
       "  </thead>\n",
       "  <tbody>\n",
       "    <tr>\n",
       "      <th>0</th>\n",
       "      <td>0.039065</td>\n",
       "      <td>0.238531</td>\n",
       "      <td>0.000000</td>\n",
       "      <td>0.000000</td>\n",
       "      <td>0.000000</td>\n",
       "      <td>0.000000</td>\n",
       "      <td>0.226166</td>\n",
       "      <td>0.039323</td>\n",
       "      <td>0.254499</td>\n",
       "      <td>0.000000</td>\n",
       "      <td>0.039418</td>\n",
       "      <td>0.0</td>\n",
       "      <td>0.000000</td>\n",
       "      <td>0.000000</td>\n",
       "      <td>0.000000</td>\n",
       "      <td>0.056634</td>\n",
       "      <td>0.032787</td>\n",
       "      <td>0.060852</td>\n",
       "      <td>0.987275</td>\n",
       "    </tr>\n",
       "    <tr>\n",
       "      <th>1</th>\n",
       "      <td>0.137698</td>\n",
       "      <td>0.025802</td>\n",
       "      <td>0.000000</td>\n",
       "      <td>0.000000</td>\n",
       "      <td>0.079483</td>\n",
       "      <td>0.108374</td>\n",
       "      <td>0.000000</td>\n",
       "      <td>0.000000</td>\n",
       "      <td>0.046787</td>\n",
       "      <td>0.029015</td>\n",
       "      <td>0.000000</td>\n",
       "      <td>0.0</td>\n",
       "      <td>0.309243</td>\n",
       "      <td>0.000000</td>\n",
       "      <td>0.038003</td>\n",
       "      <td>0.064688</td>\n",
       "      <td>0.119343</td>\n",
       "      <td>0.028400</td>\n",
       "      <td>0.986834</td>\n",
       "    </tr>\n",
       "    <tr>\n",
       "      <th>2</th>\n",
       "      <td>0.041109</td>\n",
       "      <td>0.000000</td>\n",
       "      <td>0.000000</td>\n",
       "      <td>0.000000</td>\n",
       "      <td>0.011147</td>\n",
       "      <td>0.000000</td>\n",
       "      <td>0.157922</td>\n",
       "      <td>0.000000</td>\n",
       "      <td>0.110562</td>\n",
       "      <td>0.000000</td>\n",
       "      <td>0.000000</td>\n",
       "      <td>0.0</td>\n",
       "      <td>0.000000</td>\n",
       "      <td>0.000000</td>\n",
       "      <td>0.000000</td>\n",
       "      <td>0.052267</td>\n",
       "      <td>0.221733</td>\n",
       "      <td>0.374462</td>\n",
       "      <td>0.969203</td>\n",
       "    </tr>\n",
       "    <tr>\n",
       "      <th>3</th>\n",
       "      <td>0.183990</td>\n",
       "      <td>0.036001</td>\n",
       "      <td>0.010856</td>\n",
       "      <td>0.211351</td>\n",
       "      <td>0.112289</td>\n",
       "      <td>0.219989</td>\n",
       "      <td>0.106122</td>\n",
       "      <td>0.049301</td>\n",
       "      <td>0.000000</td>\n",
       "      <td>0.000000</td>\n",
       "      <td>0.000000</td>\n",
       "      <td>0.0</td>\n",
       "      <td>0.000000</td>\n",
       "      <td>0.000000</td>\n",
       "      <td>0.000000</td>\n",
       "      <td>0.000000</td>\n",
       "      <td>0.041731</td>\n",
       "      <td>0.000000</td>\n",
       "      <td>0.971630</td>\n",
       "    </tr>\n",
       "    <tr>\n",
       "      <th>4</th>\n",
       "      <td>0.124797</td>\n",
       "      <td>0.000000</td>\n",
       "      <td>0.010041</td>\n",
       "      <td>0.000000</td>\n",
       "      <td>0.082878</td>\n",
       "      <td>0.000000</td>\n",
       "      <td>0.098116</td>\n",
       "      <td>0.057911</td>\n",
       "      <td>0.122297</td>\n",
       "      <td>0.045664</td>\n",
       "      <td>0.000000</td>\n",
       "      <td>0.0</td>\n",
       "      <td>0.000000</td>\n",
       "      <td>0.012641</td>\n",
       "      <td>0.000000</td>\n",
       "      <td>0.347074</td>\n",
       "      <td>0.067172</td>\n",
       "      <td>0.016773</td>\n",
       "      <td>0.985364</td>\n",
       "    </tr>\n",
       "  </tbody>\n",
       "</table>\n",
       "</div>"
      ],
      "text/plain": [
       "0           0         1         2         3         5         6         7  \\\n",
       "idx                                                                         \n",
       "0    0.039065  0.238531  0.000000  0.000000  0.000000  0.000000  0.226166   \n",
       "1    0.137698  0.025802  0.000000  0.000000  0.079483  0.108374  0.000000   \n",
       "2    0.041109  0.000000  0.000000  0.000000  0.011147  0.000000  0.157922   \n",
       "3    0.183990  0.036001  0.010856  0.211351  0.112289  0.219989  0.106122   \n",
       "4    0.124797  0.000000  0.010041  0.000000  0.082878  0.000000  0.098116   \n",
       "\n",
       "0           8         9        10        11   12        13        15  \\\n",
       "idx                                                                    \n",
       "0    0.039323  0.254499  0.000000  0.039418  0.0  0.000000  0.000000   \n",
       "1    0.000000  0.046787  0.029015  0.000000  0.0  0.309243  0.000000   \n",
       "2    0.000000  0.110562  0.000000  0.000000  0.0  0.000000  0.000000   \n",
       "3    0.049301  0.000000  0.000000  0.000000  0.0  0.000000  0.000000   \n",
       "4    0.057911  0.122297  0.045664  0.000000  0.0  0.000000  0.012641   \n",
       "\n",
       "0          16        17        18        19       sum  \n",
       "idx                                                    \n",
       "0    0.000000  0.056634  0.032787  0.060852  0.987275  \n",
       "1    0.038003  0.064688  0.119343  0.028400  0.986834  \n",
       "2    0.000000  0.052267  0.221733  0.374462  0.969203  \n",
       "3    0.000000  0.000000  0.041731  0.000000  0.971630  \n",
       "4    0.000000  0.347074  0.067172  0.016773  0.985364  "
      ]
     },
     "execution_count": 212,
     "metadata": {},
     "output_type": "execute_result"
    }
   ],
   "source": [
    "tpd.head()"
   ]
  },
  {
   "cell_type": "code",
   "execution_count": null,
   "metadata": {},
   "outputs": [],
   "source": [
    "# 토픽-키워드 시각화\n",
    "pyLDAvis.enable_notebook()\n",
    "vis = pyLDAvis.gensim.prepare(lda_model, corpus, id2word)\n",
    "vis"
   ]
  },
  {
   "cell_type": "code",
   "execution_count": null,
   "metadata": {},
   "outputs": [],
   "source": []
  },
  {
   "cell_type": "markdown",
   "metadata": {},
   "source": [
    "### Coherence 점수로 적정 Topic 갯수 구하기 "
   ]
  },
  {
   "cell_type": "code",
   "execution_count": 215,
   "metadata": {},
   "outputs": [
    {
     "data": {
      "text/plain": [
       "array([ 3,  4,  5,  6,  7,  8,  9, 10, 11, 12, 13, 14, 15, 16, 17, 18, 19])"
      ]
     },
     "execution_count": 215,
     "metadata": {},
     "output_type": "execute_result"
    }
   ],
   "source": [
    "np.arange(3,20)"
   ]
  },
  {
   "cell_type": "code",
   "execution_count": null,
   "metadata": {},
   "outputs": [],
   "source": [
    "coh_score = []\n",
    "for i in np.arange(3,21):\n",
    "    lda = gensim.models.ldamodel.LdaModel(corpus = corpus,\n",
    "                                           id2word=id2word,\n",
    "                                           num_topics=i,\n",
    "                                           random_state=100,\n",
    "                                           update_every=1,\n",
    "                                           chunksize=100,\n",
    "                                           passes=10,\n",
    "                                           alpha='auto',\n",
    "                                           per_word_topics=True)\n",
    "    coh_mod_ld = CoherenceModel(model = lda, texts = train_lemmatized, dictionary=id2word, coherence='c_v')\n",
    "    coh_score.append(coh_mod_ld.get_coherence())\n",
    "    print('num_topics:',str(i),' done')\n",
    "coh = pd.DataFrame({'num_topics': np.arange(3,21), 'coherence':coh_score})"
   ]
  },
  {
   "cell_type": "code",
   "execution_count": null,
   "metadata": {},
   "outputs": [],
   "source": [
    "coh.style.background_gradient()"
   ]
  },
  {
   "cell_type": "code",
   "execution_count": null,
   "metadata": {},
   "outputs": [],
   "source": []
  },
  {
   "cell_type": "code",
   "execution_count": null,
   "metadata": {},
   "outputs": [],
   "source": []
  },
  {
   "cell_type": "code",
   "execution_count": null,
   "metadata": {},
   "outputs": [],
   "source": []
  },
  {
   "cell_type": "code",
   "execution_count": 111,
   "metadata": {
    "collapsed": true,
    "jupyter": {
     "outputs_hidden": true
    }
   },
   "outputs": [
    {
     "data": {
      "text/plain": [
       "[[('accord', 7),\n",
       "  ('ahead', 2),\n",
       "  ('also', 1),\n",
       "  ('area', 2),\n",
       "  ('available', 1),\n",
       "  ('average', 5),\n",
       "  ('back', 1),\n",
       "  ('bank', 1),\n",
       "  ('borrower', 1),\n",
       "  ('broaden', 1),\n",
       "  ('building', 1),\n",
       "  ('bumpy', 1),\n",
       "  ('business', 1),\n",
       "  ('cheapen', 1),\n",
       "  ('climb', 1),\n",
       "  ('com', 1),\n",
       "  ('compare', 3),\n",
       "  ('condo', 3),\n",
       "  ('construction', 1),\n",
       "  ('continue', 2),\n",
       "  ('cost', 1),\n",
       "  ('could', 2),\n",
       "  ('datum', 1),\n",
       "  ('decade', 1),\n",
       "  ('deflation', 1),\n",
       "  ('dormant', 1),\n",
       "  ('drown', 1),\n",
       "  ('earlier', 3),\n",
       "  ('early', 1),\n",
       "  ('economic', 1),\n",
       "  ('economy', 2),\n",
       "  ('effort', 1),\n",
       "  ('emerge', 1),\n",
       "  ('encourage', 1),\n",
       "  ('estimate', 1),\n",
       "  ('even', 1),\n",
       "  ('evidence', 1),\n",
       "  ('exist', 1),\n",
       "  ('expectation', 1),\n",
       "  ('fall', 3),\n",
       "  ('fifthly', 1),\n",
       "  ('financial', 1),\n",
       "  ('first', 1),\n",
       "  ('firstly', 1),\n",
       "  ('fiscal', 1),\n",
       "  ('fix', 1),\n",
       "  ('fortune', 1),\n",
       "  ('fourthly', 1),\n",
       "  ('global', 1),\n",
       "  ('goal', 1),\n",
       "  ('government', 1),\n",
       "  ('grow', 5),\n",
       "  ('guide', 1),\n",
       "  ('high', 1),\n",
       "  ('hit', 1),\n",
       "  ('home', 2),\n",
       "  ('impact', 1),\n",
       "  ('include', 1),\n",
       "  ('increase', 3),\n",
       "  ('index', 1),\n",
       "  ('inflation', 1),\n",
       "  ('information', 1),\n",
       "  ('infrastructure', 1),\n",
       "  ('institute', 1),\n",
       "  ('interest', 1),\n",
       "  ('invest', 1),\n",
       "  ('japan', 1),\n",
       "  ('japanese', 1),\n",
       "  ('land', 2),\n",
       "  ('large', 1),\n",
       "  ('last', 6),\n",
       "  ('late', 1),\n",
       "  ('level', 1),\n",
       "  ('loan', 1),\n",
       "  ('long', 2),\n",
       "  ('lower', 1),\n",
       "  ('major', 2),\n",
       "  ('mark', 1),\n",
       "  ('market', 3),\n",
       "  ('may', 4),\n",
       "  ('monetary', 1),\n",
       "  ('money', 1),\n",
       "  ('mortgage', 1),\n",
       "  ('motivate', 1),\n",
       "  ('nation', 1),\n",
       "  ('nearly', 1),\n",
       "  ('negative', 2),\n",
       "  ('new', 4),\n",
       "  ('number', 1),\n",
       "  ('offset', 1),\n",
       "  ('overall', 1),\n",
       "  ('overdue', 1),\n",
       "  ('pace', 1),\n",
       "  ('package', 1),\n",
       "  ('pay', 1),\n",
       "  ('peak', 2),\n",
       "  ('percent', 11),\n",
       "  ('period', 4),\n",
       "  ('plan', 1),\n",
       "  ('policy', 1),\n",
       "  ('potential', 1),\n",
       "  ('precrisis', 1),\n",
       "  ('prepare', 1),\n",
       "  ('price', 13),\n",
       "  ('property', 3),\n",
       "  ('raise', 1),\n",
       "  ('rate', 3),\n",
       "  ('rebound', 1),\n",
       "  ('recovery', 1),\n",
       "  ('release', 1),\n",
       "  ('report', 1),\n",
       "  ('resale', 1),\n",
       "  ('residential', 1),\n",
       "  ('rise', 4),\n",
       "  ('road', 1),\n",
       "  ('sale', 5),\n",
       "  ('say', 2),\n",
       "  ('secondly', 1),\n",
       "  ('sector', 1),\n",
       "  ('see', 2),\n",
       "  ('slow', 1),\n",
       "  ('stable', 1),\n",
       "  ('still', 3),\n",
       "  ('stimulate', 1),\n",
       "  ('stimulus', 1),\n",
       "  ('succeed', 1),\n",
       "  ('summer', 1),\n",
       "  ('surround', 1),\n",
       "  ('survey', 1),\n",
       "  ('swallow', 1),\n",
       "  ('take', 1),\n",
       "  ('tax', 4),\n",
       "  ('third', 1),\n",
       "  ('thirdly', 1),\n",
       "  ('thus', 1),\n",
       "  ('tourism', 1),\n",
       "  ('transport', 1),\n",
       "  ('trend', 1),\n",
       "  ('turnaround', 2),\n",
       "  ('upgrade', 1),\n",
       "  ('urban', 1),\n",
       "  ('value', 1),\n",
       "  ('various', 1),\n",
       "  ('wealth', 1),\n",
       "  ('week', 2),\n",
       "  ('world', 1),\n",
       "  ('year', 7),\n",
       "  ('yen', 1)]]"
      ]
     },
     "execution_count": 111,
     "metadata": {},
     "output_type": "execute_result"
    }
   ],
   "source": [
    "[[(id2word[id], freq) for id, freq in cp] for cp in corpus[:1]]"
   ]
  },
  {
   "cell_type": "code",
   "execution_count": 179,
   "metadata": {},
   "outputs": [],
   "source": [
    "# 토픽 모델 만들기 \n",
    "lda_model = gensim.models.ldamodel.LdaModel(corpus = corpus,\n",
    "                                           id2word=id2word,\n",
    "                                           num_topics=20,\n",
    "                                           random_state=100,\n",
    "                                           update_every=1,\n",
    "                                           chunksize=100,\n",
    "                                           passes=10,\n",
    "                                           alpha='auto',\n",
    "                                           per_word_topics=True)"
   ]
  },
  {
   "cell_type": "code",
   "execution_count": 180,
   "metadata": {
    "collapsed": true,
    "jupyter": {
     "outputs_hidden": true
    }
   },
   "outputs": [
    {
     "name": "stdout",
     "output_type": "stream",
     "text": [
      "[(0,\n",
      "  '0.044*\"say\" + 0.014*\"year\" + 0.014*\"go\" + 0.013*\"make\" + 0.012*\"people\" + '\n",
      "  '0.012*\"would\" + 0.011*\"time\" + 0.011*\"take\" + 0.010*\"could\" + 0.010*\"get\"'),\n",
      " (1,\n",
      "  '0.076*\"home\" + 0.057*\"price\" + 0.055*\"housing\" + 0.043*\"property\" + '\n",
      "  '0.039*\"sale\" + 0.035*\"city\" + 0.034*\"mortgage\" + 0.030*\"household\" + '\n",
      "  '0.025*\"cool\" + 0.021*\"buyer\"'),\n",
      " (2,\n",
      "  '0.234*\"trade\" + 0.083*\"tariff\" + 0.073*\"chinese\" + 0.045*\"good\" + '\n",
      "  '0.030*\"import\" + 0.028*\"export\" + 0.028*\"war\" + 0.024*\"talk\" + '\n",
      "  '0.023*\"global\" + 0.021*\"deal\"'),\n",
      " (3,\n",
      "  '0.044*\"digital\" + 0.040*\"insurance\" + 0.037*\"technology\" + 0.033*\"consumer\" '\n",
      "  '+ 0.032*\"customer\" + 0.028*\"tech\" + 0.026*\"service\" + 0.024*\"network\" + '\n",
      "  '0.022*\"payment\" + 0.022*\"use\"'),\n",
      " (4,\n",
      "  '0.145*\"food\" + 0.082*\"italian\" + 0.055*\"season\" + 0.053*\"item\" + '\n",
      "  '0.044*\"hotel\" + 0.041*\"black\" + 0.038*\"restaurant\" + 0.035*\"climate_change\" '\n",
      "  '+ 0.029*\"collection\" + 0.028*\"chip\"'),\n",
      " (5,\n",
      "  '0.079*\"company\" + 0.031*\"business\" + 0.025*\"firm\" + 0.022*\"industry\" + '\n",
      "  '0.021*\"say\" + 0.015*\"accord\" + 0.012*\"car\" + 0.012*\"purchase\" + '\n",
      "  '0.012*\"sale\" + 0.012*\"cost\"'),\n",
      " (6,\n",
      "  '0.039*\"bank\" + 0.039*\"say\" + 0.036*\"financial\" + 0.019*\"system\" + '\n",
      "  '0.019*\"case\" + 0.018*\"rule\" + 0.012*\"risk\" + 0.012*\"report\" + '\n",
      "  '0.010*\"banking\" + 0.010*\"review\"'),\n",
      " (7,\n",
      "  '0.052*\"market\" + 0.024*\"global\" + 0.022*\"year\" + 0.020*\"high\" + 0.015*\"low\" '\n",
      "  '+ 0.012*\"risk\" + 0.012*\"financial\" + 0.012*\"hit\" + 0.011*\"currency\" + '\n",
      "  '0.011*\"dollar\"'),\n",
      " (8,\n",
      "  '0.058*\"report\" + 0.041*\"week\" + 0.033*\"datum\" + 0.028*\"stock\" + '\n",
      "  '0.022*\"point\" + 0.021*\"day\" + 0.020*\"expect\" + 0.018*\"due\" + 0.018*\"trade\" '\n",
      "  '+ 0.015*\"oil\"'),\n",
      " (9,\n",
      "  '0.061*\"growth\" + 0.058*\"year\" + 0.046*\"economy\" + 0.031*\"say\" + '\n",
      "  '0.025*\"economic\" + 0.025*\"expect\" + 0.018*\"quarter\" + 0.017*\"economist\" + '\n",
      "  '0.016*\"month\" + 0.015*\"forecast\"'),\n",
      " (10,\n",
      "  '0.076*\"job\" + 0.067*\"labor\" + 0.061*\"worker\" + 0.034*\"wage\" + 0.031*\"pay\" + '\n",
      "  '0.028*\"work\" + 0.022*\"unemployment\" + 0.021*\"income\" + 0.020*\"low\" + '\n",
      "  '0.017*\"high\"'),\n",
      " (11,\n",
      "  '0.094*\"tax\" + 0.076*\"government\" + 0.066*\"fiscal\" + 0.062*\"budget\" + '\n",
      "  '0.034*\"spending\" + 0.030*\"deficit\" + 0.027*\"year\" + 0.022*\"debt\" + '\n",
      "  '0.021*\"cut\" + 0.020*\"plan\"'),\n",
      " (12,\n",
      "  '0.079*\"school\" + 0.065*\"wealth\" + 0.054*\"woman\" + 0.054*\"family\" + '\n",
      "  '0.048*\"death\" + 0.038*\"die\" + 0.035*\"student\" + 0.030*\"child\" + '\n",
      "  '0.029*\"mechanism\" + 0.024*\"live\"'),\n",
      " (13,\n",
      "  '0.063*\"debt\" + 0.057*\"bond\" + 0.048*\"fund\" + 0.044*\"bank\" + 0.033*\"loan\" + '\n",
      "  '0.025*\"year\" + 0.020*\"reserve\" + 0.020*\"cash\" + 0.020*\"money\" + '\n",
      "  '0.018*\"investor\"'),\n",
      " (14,\n",
      "  '0.148*\"oil\" + 0.134*\"sanction\" + 0.113*\"protest\" + 0.080*\"military\" + '\n",
      "  '0.047*\"russian\" + 0.035*\"western\" + 0.026*\"violence\" + 0.024*\"rethink\" + '\n",
      "  '0.018*\"gas\" + 0.016*\"impose\"'),\n",
      " (15,\n",
      "  '0.074*\"travel\" + 0.060*\"kill\" + 0.047*\"flight\" + 0.044*\"repo\" + '\n",
      "  '0.044*\"airline\" + 0.043*\"death\" + 0.038*\"passenger\" + 0.033*\"attack\" + '\n",
      "  '0.025*\"indian\" + 0.023*\"quote\"'),\n",
      " (16,\n",
      "  '0.039*\"price\" + 0.038*\"farm\" + 0.037*\"farmer\" + 0.035*\"subsidy\" + '\n",
      "  '0.034*\"energy\" + 0.028*\"production\" + 0.027*\"plant\" + 0.026*\"capacity\" + '\n",
      "  '0.025*\"climate\" + 0.024*\"agricultural\"'),\n",
      " (17,\n",
      "  '0.045*\"say\" + 0.043*\"country\" + 0.039*\"investment\" + 0.035*\"government\" + '\n",
      "  '0.027*\"foreign\" + 0.021*\"economic\" + 0.020*\"sector\" + 0.017*\"chinese\" + '\n",
      "  '0.017*\"economy\" + 0.016*\"state\"'),\n",
      " (18,\n",
      "  '0.064*\"say\" + 0.027*\"would\" + 0.019*\"deal\" + 0.014*\"government\" + '\n",
      "  '0.014*\"official\" + 0.010*\"week\" + 0.010*\"country\" + 0.009*\"could\" + '\n",
      "  '0.009*\"tell\" + 0.008*\"also\"'),\n",
      " (19,\n",
      "  '0.109*\"rate\" + 0.057*\"policy\" + 0.044*\"inflation\" + 0.034*\"bank\" + '\n",
      "  '0.034*\"cut\" + 0.032*\"interest\" + 0.025*\"central\" + 0.025*\"monetary\" + '\n",
      "  '0.020*\"say\" + 0.016*\"target\"')]\n"
     ]
    }
   ],
   "source": [
    "# lda 모델의 토픽보기 \n",
    "# 토픽별 10개 키워드 \n",
    "pprint(lda_model.print_topics())\n",
    "doc_lda = lda_model[corpus]"
   ]
  },
  {
   "cell_type": "code",
   "execution_count": 181,
   "metadata": {},
   "outputs": [
    {
     "name": "stdout",
     "output_type": "stream",
     "text": [
      "\n",
      "Perplexity:  -10.007470477905306\n"
     ]
    }
   ],
   "source": [
    "# 모델 난이도와 일관성 점수 계산 \n",
    "print('\\nPerplexity: ',lda_model.log_perplexity(corpus))"
   ]
  },
  {
   "cell_type": "code",
   "execution_count": 182,
   "metadata": {},
   "outputs": [
    {
     "name": "stdout",
     "output_type": "stream",
     "text": [
      "\n",
      "Coherence Score:  0.45391983449464923\n"
     ]
    }
   ],
   "source": [
    "coherence_model_lda = CoherenceModel(model = lda_model, texts = train_lemmatized, dictionary=id2word, coherence='c_v')\n",
    "coherence_lda = coherence_model_lda.get_coherence()\n",
    "print('\\nCoherence Score: ',coherence_lda)"
   ]
  },
  {
   "cell_type": "code",
   "execution_count": 190,
   "metadata": {
    "collapsed": true,
    "jupyter": {
     "outputs_hidden": true
    }
   },
   "outputs": [
    {
     "data": {
      "text/plain": [
       "[[(0, 0.039064944),\n",
       "  (1, 0.23853052),\n",
       "  (7, 0.22616611),\n",
       "  (8, 0.039323464),\n",
       "  (9, 0.25449947),\n",
       "  (11, 0.03941763),\n",
       "  (17, 0.05663374),\n",
       "  (18, 0.032787155),\n",
       "  (19, 0.060852256)],\n",
       " [(0, 0.1376976),\n",
       "  (1, 0.025801694),\n",
       "  (5, 0.07948344),\n",
       "  (6, 0.10837357),\n",
       "  (9, 0.046786692),\n",
       "  (10, 0.029014887),\n",
       "  (13, 0.30924252),\n",
       "  (16, 0.038003113),\n",
       "  (17, 0.06468784),\n",
       "  (18, 0.11934305),\n",
       "  (19, 0.028400019)],\n",
       " [(0, 0.041109044),\n",
       "  (5, 0.011147422),\n",
       "  (7, 0.1579221),\n",
       "  (9, 0.110561796),\n",
       "  (17, 0.05226727),\n",
       "  (18, 0.22173339),\n",
       "  (19, 0.37446195)],\n",
       " [(0, 0.18398969),\n",
       "  (1, 0.036000546),\n",
       "  (2, 0.010855934),\n",
       "  (3, 0.2113515),\n",
       "  (5, 0.11228948),\n",
       "  (6, 0.21998909),\n",
       "  (7, 0.10612155),\n",
       "  (8, 0.04930143),\n",
       "  (18, 0.041730665)],\n",
       " [(0, 0.12479729),\n",
       "  (2, 0.010040674),\n",
       "  (5, 0.0828783),\n",
       "  (7, 0.098115675),\n",
       "  (8, 0.057910703),\n",
       "  (9, 0.12229714),\n",
       "  (10, 0.04566448),\n",
       "  (15, 0.01264076),\n",
       "  (17, 0.3470738),\n",
       "  (18, 0.067172185),\n",
       "  (19, 0.016773101)],\n",
       " [(0, 0.17908257),\n",
       "  (2, 0.03192796),\n",
       "  (5, 0.06300078),\n",
       "  (6, 0.02053964),\n",
       "  (7, 0.23002866),\n",
       "  (9, 0.13214967),\n",
       "  (11, 0.01730395),\n",
       "  (13, 0.0101804985),\n",
       "  (16, 0.24207287),\n",
       "  (18, 0.058923583)],\n",
       " [(0, 0.046228673),\n",
       "  (7, 0.2756465),\n",
       "  (9, 0.06846718),\n",
       "  (13, 0.032119825),\n",
       "  (17, 0.046697732),\n",
       "  (18, 0.2786478),\n",
       "  (19, 0.21881509)],\n",
       " [(0, 0.358577),\n",
       "  (1, 0.14270505),\n",
       "  (3, 0.015145243),\n",
       "  (5, 0.041026283),\n",
       "  (6, 0.12878025),\n",
       "  (7, 0.07451265),\n",
       "  (8, 0.018654203),\n",
       "  (9, 0.028905835),\n",
       "  (13, 0.08118052),\n",
       "  (18, 0.08387107),\n",
       "  (19, 0.014792177)],\n",
       " [(0, 0.27135655),\n",
       "  (7, 0.12908746),\n",
       "  (9, 0.1459824),\n",
       "  (10, 0.036939573),\n",
       "  (18, 0.09092717),\n",
       "  (19, 0.30386984)],\n",
       " [(0, 0.053613514),\n",
       "  (5, 0.04166242),\n",
       "  (6, 0.020987045),\n",
       "  (7, 0.29232368),\n",
       "  (8, 0.07646761),\n",
       "  (9, 0.14822984),\n",
       "  (12, 0.019967321),\n",
       "  (15, 0.010338621),\n",
       "  (17, 0.2685094),\n",
       "  (18, 0.04161922),\n",
       "  (19, 0.016315715)]]"
      ]
     },
     "execution_count": 190,
     "metadata": {},
     "output_type": "execute_result"
    }
   ],
   "source": [
    "tpr = [lda_model.get_document_topics(c) for c in corpus[:10]]\n",
    "tpr"
   ]
  },
  {
   "cell_type": "code",
   "execution_count": 205,
   "metadata": {},
   "outputs": [],
   "source": [
    "tpd = pd.concat([pd.DataFrame(t).assign(idx=i) for i,t in enumerate(tpr)])\n",
    "tpd = tpd.pivot(index='idx',columns=0,values=1).fillna(0)"
   ]
  },
  {
   "cell_type": "code",
   "execution_count": 206,
   "metadata": {},
   "outputs": [
    {
     "data": {
      "text/html": [
       "<div>\n",
       "<style scoped>\n",
       "    .dataframe tbody tr th:only-of-type {\n",
       "        vertical-align: middle;\n",
       "    }\n",
       "\n",
       "    .dataframe tbody tr th {\n",
       "        vertical-align: top;\n",
       "    }\n",
       "\n",
       "    .dataframe thead th {\n",
       "        text-align: right;\n",
       "    }\n",
       "</style>\n",
       "<table border=\"1\" class=\"dataframe\">\n",
       "  <thead>\n",
       "    <tr style=\"text-align: right;\">\n",
       "      <th></th>\n",
       "      <th>0</th>\n",
       "      <th>1</th>\n",
       "      <th>2</th>\n",
       "      <th>3</th>\n",
       "      <th>5</th>\n",
       "      <th>6</th>\n",
       "      <th>7</th>\n",
       "      <th>8</th>\n",
       "      <th>9</th>\n",
       "      <th>10</th>\n",
       "      <th>11</th>\n",
       "      <th>12</th>\n",
       "      <th>13</th>\n",
       "      <th>15</th>\n",
       "      <th>16</th>\n",
       "      <th>17</th>\n",
       "      <th>18</th>\n",
       "      <th>19</th>\n",
       "    </tr>\n",
       "    <tr>\n",
       "      <th>idx</th>\n",
       "      <th></th>\n",
       "      <th></th>\n",
       "      <th></th>\n",
       "      <th></th>\n",
       "      <th></th>\n",
       "      <th></th>\n",
       "      <th></th>\n",
       "      <th></th>\n",
       "      <th></th>\n",
       "      <th></th>\n",
       "      <th></th>\n",
       "      <th></th>\n",
       "      <th></th>\n",
       "      <th></th>\n",
       "      <th></th>\n",
       "      <th></th>\n",
       "      <th></th>\n",
       "      <th></th>\n",
       "    </tr>\n",
       "  </thead>\n",
       "  <tbody>\n",
       "    <tr>\n",
       "      <th>0</th>\n",
       "      <td>0.039065</td>\n",
       "      <td>0.238531</td>\n",
       "      <td>0.000000</td>\n",
       "      <td>0.000000</td>\n",
       "      <td>0.000000</td>\n",
       "      <td>0.000000</td>\n",
       "      <td>0.226166</td>\n",
       "      <td>0.039323</td>\n",
       "      <td>0.254499</td>\n",
       "      <td>0.000000</td>\n",
       "      <td>0.039418</td>\n",
       "      <td>0.0</td>\n",
       "      <td>0.000000</td>\n",
       "      <td>0.000000</td>\n",
       "      <td>0.000000</td>\n",
       "      <td>0.056634</td>\n",
       "      <td>0.032787</td>\n",
       "      <td>0.060852</td>\n",
       "    </tr>\n",
       "    <tr>\n",
       "      <th>1</th>\n",
       "      <td>0.137698</td>\n",
       "      <td>0.025802</td>\n",
       "      <td>0.000000</td>\n",
       "      <td>0.000000</td>\n",
       "      <td>0.079483</td>\n",
       "      <td>0.108374</td>\n",
       "      <td>0.000000</td>\n",
       "      <td>0.000000</td>\n",
       "      <td>0.046787</td>\n",
       "      <td>0.029015</td>\n",
       "      <td>0.000000</td>\n",
       "      <td>0.0</td>\n",
       "      <td>0.309243</td>\n",
       "      <td>0.000000</td>\n",
       "      <td>0.038003</td>\n",
       "      <td>0.064688</td>\n",
       "      <td>0.119343</td>\n",
       "      <td>0.028400</td>\n",
       "    </tr>\n",
       "    <tr>\n",
       "      <th>2</th>\n",
       "      <td>0.041109</td>\n",
       "      <td>0.000000</td>\n",
       "      <td>0.000000</td>\n",
       "      <td>0.000000</td>\n",
       "      <td>0.011147</td>\n",
       "      <td>0.000000</td>\n",
       "      <td>0.157922</td>\n",
       "      <td>0.000000</td>\n",
       "      <td>0.110562</td>\n",
       "      <td>0.000000</td>\n",
       "      <td>0.000000</td>\n",
       "      <td>0.0</td>\n",
       "      <td>0.000000</td>\n",
       "      <td>0.000000</td>\n",
       "      <td>0.000000</td>\n",
       "      <td>0.052267</td>\n",
       "      <td>0.221733</td>\n",
       "      <td>0.374462</td>\n",
       "    </tr>\n",
       "    <tr>\n",
       "      <th>3</th>\n",
       "      <td>0.183990</td>\n",
       "      <td>0.036001</td>\n",
       "      <td>0.010856</td>\n",
       "      <td>0.211351</td>\n",
       "      <td>0.112289</td>\n",
       "      <td>0.219989</td>\n",
       "      <td>0.106122</td>\n",
       "      <td>0.049301</td>\n",
       "      <td>0.000000</td>\n",
       "      <td>0.000000</td>\n",
       "      <td>0.000000</td>\n",
       "      <td>0.0</td>\n",
       "      <td>0.000000</td>\n",
       "      <td>0.000000</td>\n",
       "      <td>0.000000</td>\n",
       "      <td>0.000000</td>\n",
       "      <td>0.041731</td>\n",
       "      <td>0.000000</td>\n",
       "    </tr>\n",
       "    <tr>\n",
       "      <th>4</th>\n",
       "      <td>0.124797</td>\n",
       "      <td>0.000000</td>\n",
       "      <td>0.010041</td>\n",
       "      <td>0.000000</td>\n",
       "      <td>0.082878</td>\n",
       "      <td>0.000000</td>\n",
       "      <td>0.098116</td>\n",
       "      <td>0.057911</td>\n",
       "      <td>0.122297</td>\n",
       "      <td>0.045664</td>\n",
       "      <td>0.000000</td>\n",
       "      <td>0.0</td>\n",
       "      <td>0.000000</td>\n",
       "      <td>0.012641</td>\n",
       "      <td>0.000000</td>\n",
       "      <td>0.347074</td>\n",
       "      <td>0.067172</td>\n",
       "      <td>0.016773</td>\n",
       "    </tr>\n",
       "  </tbody>\n",
       "</table>\n",
       "</div>"
      ],
      "text/plain": [
       "0          0         1         2         3         5         6         7   \\\n",
       "idx                                                                         \n",
       "0    0.039065  0.238531  0.000000  0.000000  0.000000  0.000000  0.226166   \n",
       "1    0.137698  0.025802  0.000000  0.000000  0.079483  0.108374  0.000000   \n",
       "2    0.041109  0.000000  0.000000  0.000000  0.011147  0.000000  0.157922   \n",
       "3    0.183990  0.036001  0.010856  0.211351  0.112289  0.219989  0.106122   \n",
       "4    0.124797  0.000000  0.010041  0.000000  0.082878  0.000000  0.098116   \n",
       "\n",
       "0          8         9         10        11   12        13        15  \\\n",
       "idx                                                                    \n",
       "0    0.039323  0.254499  0.000000  0.039418  0.0  0.000000  0.000000   \n",
       "1    0.000000  0.046787  0.029015  0.000000  0.0  0.309243  0.000000   \n",
       "2    0.000000  0.110562  0.000000  0.000000  0.0  0.000000  0.000000   \n",
       "3    0.049301  0.000000  0.000000  0.000000  0.0  0.000000  0.000000   \n",
       "4    0.057911  0.122297  0.045664  0.000000  0.0  0.000000  0.012641   \n",
       "\n",
       "0          16        17        18        19  \n",
       "idx                                          \n",
       "0    0.000000  0.056634  0.032787  0.060852  \n",
       "1    0.038003  0.064688  0.119343  0.028400  \n",
       "2    0.000000  0.052267  0.221733  0.374462  \n",
       "3    0.000000  0.000000  0.041731  0.000000  \n",
       "4    0.000000  0.347074  0.067172  0.016773  "
      ]
     },
     "execution_count": 206,
     "metadata": {},
     "output_type": "execute_result"
    }
   ],
   "source": [
    "tpd.head()"
   ]
  },
  {
   "cell_type": "code",
   "execution_count": 211,
   "metadata": {},
   "outputs": [],
   "source": [
    "tpd['sum'] = tpd.sum(axis=1)"
   ]
  },
  {
   "cell_type": "code",
   "execution_count": 212,
   "metadata": {},
   "outputs": [
    {
     "data": {
      "text/html": [
       "<div>\n",
       "<style scoped>\n",
       "    .dataframe tbody tr th:only-of-type {\n",
       "        vertical-align: middle;\n",
       "    }\n",
       "\n",
       "    .dataframe tbody tr th {\n",
       "        vertical-align: top;\n",
       "    }\n",
       "\n",
       "    .dataframe thead th {\n",
       "        text-align: right;\n",
       "    }\n",
       "</style>\n",
       "<table border=\"1\" class=\"dataframe\">\n",
       "  <thead>\n",
       "    <tr style=\"text-align: right;\">\n",
       "      <th></th>\n",
       "      <th>0</th>\n",
       "      <th>1</th>\n",
       "      <th>2</th>\n",
       "      <th>3</th>\n",
       "      <th>5</th>\n",
       "      <th>6</th>\n",
       "      <th>7</th>\n",
       "      <th>8</th>\n",
       "      <th>9</th>\n",
       "      <th>10</th>\n",
       "      <th>11</th>\n",
       "      <th>12</th>\n",
       "      <th>13</th>\n",
       "      <th>15</th>\n",
       "      <th>16</th>\n",
       "      <th>17</th>\n",
       "      <th>18</th>\n",
       "      <th>19</th>\n",
       "      <th>sum</th>\n",
       "    </tr>\n",
       "    <tr>\n",
       "      <th>idx</th>\n",
       "      <th></th>\n",
       "      <th></th>\n",
       "      <th></th>\n",
       "      <th></th>\n",
       "      <th></th>\n",
       "      <th></th>\n",
       "      <th></th>\n",
       "      <th></th>\n",
       "      <th></th>\n",
       "      <th></th>\n",
       "      <th></th>\n",
       "      <th></th>\n",
       "      <th></th>\n",
       "      <th></th>\n",
       "      <th></th>\n",
       "      <th></th>\n",
       "      <th></th>\n",
       "      <th></th>\n",
       "      <th></th>\n",
       "    </tr>\n",
       "  </thead>\n",
       "  <tbody>\n",
       "    <tr>\n",
       "      <th>0</th>\n",
       "      <td>0.039065</td>\n",
       "      <td>0.238531</td>\n",
       "      <td>0.000000</td>\n",
       "      <td>0.000000</td>\n",
       "      <td>0.000000</td>\n",
       "      <td>0.000000</td>\n",
       "      <td>0.226166</td>\n",
       "      <td>0.039323</td>\n",
       "      <td>0.254499</td>\n",
       "      <td>0.000000</td>\n",
       "      <td>0.039418</td>\n",
       "      <td>0.0</td>\n",
       "      <td>0.000000</td>\n",
       "      <td>0.000000</td>\n",
       "      <td>0.000000</td>\n",
       "      <td>0.056634</td>\n",
       "      <td>0.032787</td>\n",
       "      <td>0.060852</td>\n",
       "      <td>0.987275</td>\n",
       "    </tr>\n",
       "    <tr>\n",
       "      <th>1</th>\n",
       "      <td>0.137698</td>\n",
       "      <td>0.025802</td>\n",
       "      <td>0.000000</td>\n",
       "      <td>0.000000</td>\n",
       "      <td>0.079483</td>\n",
       "      <td>0.108374</td>\n",
       "      <td>0.000000</td>\n",
       "      <td>0.000000</td>\n",
       "      <td>0.046787</td>\n",
       "      <td>0.029015</td>\n",
       "      <td>0.000000</td>\n",
       "      <td>0.0</td>\n",
       "      <td>0.309243</td>\n",
       "      <td>0.000000</td>\n",
       "      <td>0.038003</td>\n",
       "      <td>0.064688</td>\n",
       "      <td>0.119343</td>\n",
       "      <td>0.028400</td>\n",
       "      <td>0.986834</td>\n",
       "    </tr>\n",
       "    <tr>\n",
       "      <th>2</th>\n",
       "      <td>0.041109</td>\n",
       "      <td>0.000000</td>\n",
       "      <td>0.000000</td>\n",
       "      <td>0.000000</td>\n",
       "      <td>0.011147</td>\n",
       "      <td>0.000000</td>\n",
       "      <td>0.157922</td>\n",
       "      <td>0.000000</td>\n",
       "      <td>0.110562</td>\n",
       "      <td>0.000000</td>\n",
       "      <td>0.000000</td>\n",
       "      <td>0.0</td>\n",
       "      <td>0.000000</td>\n",
       "      <td>0.000000</td>\n",
       "      <td>0.000000</td>\n",
       "      <td>0.052267</td>\n",
       "      <td>0.221733</td>\n",
       "      <td>0.374462</td>\n",
       "      <td>0.969203</td>\n",
       "    </tr>\n",
       "    <tr>\n",
       "      <th>3</th>\n",
       "      <td>0.183990</td>\n",
       "      <td>0.036001</td>\n",
       "      <td>0.010856</td>\n",
       "      <td>0.211351</td>\n",
       "      <td>0.112289</td>\n",
       "      <td>0.219989</td>\n",
       "      <td>0.106122</td>\n",
       "      <td>0.049301</td>\n",
       "      <td>0.000000</td>\n",
       "      <td>0.000000</td>\n",
       "      <td>0.000000</td>\n",
       "      <td>0.0</td>\n",
       "      <td>0.000000</td>\n",
       "      <td>0.000000</td>\n",
       "      <td>0.000000</td>\n",
       "      <td>0.000000</td>\n",
       "      <td>0.041731</td>\n",
       "      <td>0.000000</td>\n",
       "      <td>0.971630</td>\n",
       "    </tr>\n",
       "    <tr>\n",
       "      <th>4</th>\n",
       "      <td>0.124797</td>\n",
       "      <td>0.000000</td>\n",
       "      <td>0.010041</td>\n",
       "      <td>0.000000</td>\n",
       "      <td>0.082878</td>\n",
       "      <td>0.000000</td>\n",
       "      <td>0.098116</td>\n",
       "      <td>0.057911</td>\n",
       "      <td>0.122297</td>\n",
       "      <td>0.045664</td>\n",
       "      <td>0.000000</td>\n",
       "      <td>0.0</td>\n",
       "      <td>0.000000</td>\n",
       "      <td>0.012641</td>\n",
       "      <td>0.000000</td>\n",
       "      <td>0.347074</td>\n",
       "      <td>0.067172</td>\n",
       "      <td>0.016773</td>\n",
       "      <td>0.985364</td>\n",
       "    </tr>\n",
       "  </tbody>\n",
       "</table>\n",
       "</div>"
      ],
      "text/plain": [
       "0           0         1         2         3         5         6         7  \\\n",
       "idx                                                                         \n",
       "0    0.039065  0.238531  0.000000  0.000000  0.000000  0.000000  0.226166   \n",
       "1    0.137698  0.025802  0.000000  0.000000  0.079483  0.108374  0.000000   \n",
       "2    0.041109  0.000000  0.000000  0.000000  0.011147  0.000000  0.157922   \n",
       "3    0.183990  0.036001  0.010856  0.211351  0.112289  0.219989  0.106122   \n",
       "4    0.124797  0.000000  0.010041  0.000000  0.082878  0.000000  0.098116   \n",
       "\n",
       "0           8         9        10        11   12        13        15  \\\n",
       "idx                                                                    \n",
       "0    0.039323  0.254499  0.000000  0.039418  0.0  0.000000  0.000000   \n",
       "1    0.000000  0.046787  0.029015  0.000000  0.0  0.309243  0.000000   \n",
       "2    0.000000  0.110562  0.000000  0.000000  0.0  0.000000  0.000000   \n",
       "3    0.049301  0.000000  0.000000  0.000000  0.0  0.000000  0.000000   \n",
       "4    0.057911  0.122297  0.045664  0.000000  0.0  0.000000  0.012641   \n",
       "\n",
       "0          16        17        18        19       sum  \n",
       "idx                                                    \n",
       "0    0.000000  0.056634  0.032787  0.060852  0.987275  \n",
       "1    0.038003  0.064688  0.119343  0.028400  0.986834  \n",
       "2    0.000000  0.052267  0.221733  0.374462  0.969203  \n",
       "3    0.000000  0.000000  0.041731  0.000000  0.971630  \n",
       "4    0.000000  0.347074  0.067172  0.016773  0.985364  "
      ]
     },
     "execution_count": 212,
     "metadata": {},
     "output_type": "execute_result"
    }
   ],
   "source": [
    "tpd.head()"
   ]
  },
  {
   "cell_type": "code",
   "execution_count": null,
   "metadata": {},
   "outputs": [],
   "source": [
    "# 토픽-키워드 시각화\n",
    "pyLDAvis.enable_notebook()\n",
    "vis = pyLDAvis.gensim.prepare(lda_model, corpus, id2word)\n",
    "vis"
   ]
  },
  {
   "cell_type": "code",
   "execution_count": null,
   "metadata": {},
   "outputs": [],
   "source": []
  },
  {
   "cell_type": "code",
   "execution_count": null,
   "metadata": {},
   "outputs": [],
   "source": []
  },
  {
   "cell_type": "code",
   "execution_count": null,
   "metadata": {},
   "outputs": [],
   "source": []
  },
  {
   "cell_type": "code",
   "execution_count": null,
   "metadata": {},
   "outputs": [],
   "source": []
  },
  {
   "cell_type": "code",
   "execution_count": null,
   "metadata": {},
   "outputs": [],
   "source": []
  },
  {
   "cell_type": "markdown",
   "metadata": {},
   "source": [
    "### Coherence 점수로 적정 Topic 갯수 구하기 "
   ]
  },
  {
   "cell_type": "code",
   "execution_count": 215,
   "metadata": {},
   "outputs": [
    {
     "data": {
      "text/plain": [
       "array([ 3,  4,  5,  6,  7,  8,  9, 10, 11, 12, 13, 14, 15, 16, 17, 18, 19])"
      ]
     },
     "execution_count": 215,
     "metadata": {},
     "output_type": "execute_result"
    }
   ],
   "source": [
    "np.arange(3,20)"
   ]
  },
  {
   "cell_type": "code",
   "execution_count": null,
   "metadata": {},
   "outputs": [],
   "source": [
    "coh_score = []\n",
    "for i in np.arange(3,21):\n",
    "    lda = gensim.models.ldamodel.LdaModel(corpus = corpus,\n",
    "                                           id2word=id2word,\n",
    "                                           num_topics=i,\n",
    "                                           random_state=100,\n",
    "                                           update_every=1,\n",
    "                                           chunksize=100,\n",
    "                                           passes=10,\n",
    "                                           alpha='auto',\n",
    "                                           per_word_topics=True)\n",
    "    coh_mod_ld = CoherenceModel(model = lda, texts = train_lemmatized, dictionary=id2word, coherence='c_v')\n",
    "    coh_score.append(coh_mod_ld.get_coherence())\n",
    "    print('num_topics:',str(i),' done')\n",
    "coh = pd.DataFrame({'num_topics': np.arange(3,21), 'coherence':coh_score})"
   ]
  },
  {
   "cell_type": "code",
   "execution_count": null,
   "metadata": {},
   "outputs": [],
   "source": [
    "coh.style.background_gradient()"
   ]
  },
  {
   "cell_type": "code",
   "execution_count": null,
   "metadata": {},
   "outputs": [],
   "source": []
  },
  {
   "cell_type": "code",
   "execution_count": null,
   "metadata": {},
   "outputs": [],
   "source": []
  },
  {
   "cell_type": "code",
   "execution_count": null,
   "metadata": {},
   "outputs": [],
   "source": []
  }
 ],
 "metadata": {
  "kernelspec": {
   "display_name": "Python 3",
   "language": "python",
   "name": "python3"
  },
  "language_info": {
   "codemirror_mode": {
    "name": "ipython",
    "version": 3
   },
   "file_extension": ".py",
   "mimetype": "text/x-python",
   "name": "python",
   "nbconvert_exporter": "python",
   "pygments_lexer": "ipython3",
   "version": "3.7.4"
  }
 },
 "nbformat": 4,
 "nbformat_minor": 4
}
